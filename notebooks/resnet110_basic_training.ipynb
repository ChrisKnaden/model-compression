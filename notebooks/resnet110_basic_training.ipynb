{
 "cells": [
  {
   "cell_type": "code",
   "id": "initial_id",
   "metadata": {
    "collapsed": true,
    "ExecuteTime": {
     "end_time": "2025-04-13T10:57:40.999399Z",
     "start_time": "2025-04-13T10:57:39.701944Z"
    }
   },
   "source": [
    "import torch\n",
    "from torch import nn\n",
    "from src.utils import load_model, save_model\n",
    "from src.data_loader import get_cifar10_loader\n",
    "from src.train import train_model\n",
    "from src.model import ResNet, BasicBlock, resnet110\n",
    "from src.evaluate import evaluate\n",
    "import torch"
   ],
   "outputs": [],
   "execution_count": 1
  },
  {
   "metadata": {
    "ExecuteTime": {
     "end_time": "2025-04-13T10:57:41.863445Z",
     "start_time": "2025-04-13T10:57:41.693352Z"
    }
   },
   "cell_type": "code",
   "source": [
    "# Parameters\n",
    "device = torch.device(\"mps\")\n",
    "model_path = \"models/resnet110_baseline_90_mps.pth\"\n",
    "model = load_model(model_path, device=device)\n",
    "\n",
    "batch_size = 128\n",
    "learning_rate = 0.001\n",
    "num_epochs = 30\n"
   ],
   "id": "2135f14d19b1aa26",
   "outputs": [],
   "execution_count": 2
  },
  {
   "metadata": {
    "ExecuteTime": {
     "end_time": "2025-04-13T10:57:44.627929Z",
     "start_time": "2025-04-13T10:57:43.392790Z"
    }
   },
   "cell_type": "code",
   "source": [
    "# Define optimizer and criterion for training\n",
    "optimizer = torch.optim.Adam(model.parameters(), lr=learning_rate)\n",
    "criterion = nn.CrossEntropyLoss()\n",
    "\n",
    "# Load data\n",
    "train_loader = get_cifar10_loader('train', batch_size=batch_size)\n",
    "val_loader = get_cifar10_loader('val', batch_size=batch_size)"
   ],
   "id": "139eb83ab5fd5fae",
   "outputs": [],
   "execution_count": 3
  },
  {
   "metadata": {
    "ExecuteTime": {
     "end_time": "2025-04-13T12:10:00.211432Z",
     "start_time": "2025-04-13T10:57:49.875307Z"
    }
   },
   "cell_type": "code",
   "source": "train_model(model, train_loader, optimizer, criterion, device, num_epochs=num_epochs)\n",
   "id": "810d3012b4f1a00e",
   "outputs": [
    {
     "name": "stderr",
     "output_type": "stream",
     "text": [
      "                                                                                       \r"
     ]
    }
   ],
   "execution_count": 4
  },
  {
   "metadata": {
    "ExecuteTime": {
     "end_time": "2025-04-13T12:31:18.847022Z",
     "start_time": "2025-04-13T12:31:13.751685Z"
    }
   },
   "cell_type": "code",
   "source": "evaluate(model, val_loader, device)\n",
   "id": "aa4c78d09a37a43a",
   "outputs": [
    {
     "name": "stdout",
     "output_type": "stream",
     "text": [
      "Validation Accuracy: 90.14%, Avg Loss: 0.4974, Time: 5.08s\n"
     ]
    },
    {
     "data": {
      "text/plain": [
       "(90.14, 0.49742890386581423, 5.075364112854004)"
      ]
     },
     "execution_count": 5,
     "metadata": {},
     "output_type": "execute_result"
    }
   ],
   "execution_count": 5
  },
  {
   "metadata": {
    "ExecuteTime": {
     "end_time": "2025-04-13T12:31:33.306194Z",
     "start_time": "2025-04-13T12:31:33.129401Z"
    }
   },
   "cell_type": "code",
   "source": [
    "# Save full model\n",
    "model_path = \"models/resnet110_baseline_120_mps.pth\"\n",
    "save_model(model, model_path)"
   ],
   "id": "5305b4d29d5f5583",
   "outputs": [],
   "execution_count": 6
  },
  {
   "metadata": {
    "ExecuteTime": {
     "end_time": "2025-04-13T12:31:46.513855Z",
     "start_time": "2025-04-13T12:31:46.357992Z"
    }
   },
   "cell_type": "code",
   "source": [
    "# Load model\n",
    "model = load_model(model_path, device=device)\n"
   ],
   "id": "ee7e3f3c9e6fabec",
   "outputs": [],
   "execution_count": 7
  },
  {
   "metadata": {},
   "cell_type": "code",
   "outputs": [],
   "execution_count": null,
   "source": "",
   "id": "e9139fe6636f14d0"
  }
 ],
 "metadata": {
  "kernelspec": {
   "display_name": "Python 3",
   "language": "python",
   "name": "python3"
  },
  "language_info": {
   "codemirror_mode": {
    "name": "ipython",
    "version": 2
   },
   "file_extension": ".py",
   "mimetype": "text/x-python",
   "name": "python",
   "nbconvert_exporter": "python",
   "pygments_lexer": "ipython2",
   "version": "2.7.6"
  }
 },
 "nbformat": 4,
 "nbformat_minor": 5
}
