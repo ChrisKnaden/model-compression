{
 "cells": [
  {
   "cell_type": "code",
   "id": "initial_id",
   "metadata": {
    "collapsed": true,
    "ExecuteTime": {
     "end_time": "2025-04-27T19:58:34.354725Z",
     "start_time": "2025-04-27T19:58:32.882288Z"
    }
   },
   "source": [
    "from torch import nn\n",
    "from src.utils import load_model, save_model\n",
    "from src.data_loader import get_cifar10_loader\n",
    "from src.train import train_model\n",
    "from src.model import ResNet, BasicBlock, resnet110\n",
    "from src.evaluate import evaluate\n",
    "import torch"
   ],
   "outputs": [],
   "execution_count": 1
  },
  {
   "metadata": {
    "ExecuteTime": {
     "end_time": "2025-04-27T19:58:34.542765Z",
     "start_time": "2025-04-27T19:58:34.358282Z"
    }
   },
   "cell_type": "code",
   "source": [
    "# Parameters\n",
    "device = torch.device(\"mps\")\n",
    "model_path = \"models/resnet110_baseline_120_mps.pth\"\n",
    "model = load_model(model_path, device=device)\n",
    "\n",
    "batch_size = 128\n",
    "learning_rate = 0.001\n",
    "num_epochs = 30\n"
   ],
   "id": "2135f14d19b1aa26",
   "outputs": [],
   "execution_count": 2
  },
  {
   "metadata": {
    "ExecuteTime": {
     "end_time": "2025-04-27T19:58:36.061896Z",
     "start_time": "2025-04-27T19:58:34.617799Z"
    }
   },
   "cell_type": "code",
   "source": [
    "# Define optimizer and criterion for training\n",
    "optimizer = torch.optim.Adam(model.parameters(), lr=learning_rate)\n",
    "criterion = nn.CrossEntropyLoss()\n",
    "\n",
    "# Load data\n",
    "train_loader = get_cifar10_loader('train', batch_size=batch_size)\n",
    "val_loader = get_cifar10_loader('val', batch_size=batch_size)"
   ],
   "id": "139eb83ab5fd5fae",
   "outputs": [],
   "execution_count": 3
  },
  {
   "metadata": {
    "ExecuteTime": {
     "end_time": "2025-04-27T20:01:22.167362Z",
     "start_time": "2025-04-27T19:58:36.074504Z"
    }
   },
   "cell_type": "code",
   "source": "train_model(model, train_loader, optimizer, criterion, device, num_epochs=num_epochs)\n",
   "id": "810d3012b4f1a00e",
   "outputs": [
    {
     "name": "stderr",
     "output_type": "stream",
     "text": [
      "Epoch 2/30:   2%|▏         | 9/391 [00:02<01:36,  3.95it/s, acc=98.61%, loss=0.0374]  "
     ]
    }
   ],
   "execution_count": null
  },
  {
   "metadata": {
    "ExecuteTime": {
     "end_time": "2025-04-20T12:06:05.452881Z",
     "start_time": "2025-04-20T12:05:55.791526Z"
    }
   },
   "cell_type": "code",
   "source": "evaluate(model, val_loader, device)\n",
   "id": "aa4c78d09a37a43a",
   "outputs": [
    {
     "name": "stdout",
     "output_type": "stream",
     "text": [
      "Validation Accuracy: 89.49%, Avg Loss: 0.5941, Time: 9.64s\n"
     ]
    },
    {
     "data": {
      "text/plain": [
       "(89.49, 0.5941023980617524, 9.641611099243164)"
      ]
     },
     "execution_count": 5,
     "metadata": {},
     "output_type": "execute_result"
    }
   ],
   "execution_count": 5
  },
  {
   "metadata": {
    "ExecuteTime": {
     "end_time": "2025-04-20T12:06:05.730572Z",
     "start_time": "2025-04-20T12:06:05.460944Z"
    }
   },
   "cell_type": "code",
   "source": [
    "# Save full model\n",
    "model_path = \"resnet110_baseline_120_mps.pth\"\n",
    "save_model(model, model_path)"
   ],
   "id": "5305b4d29d5f5583",
   "outputs": [],
   "execution_count": 6
  },
  {
   "metadata": {
    "ExecuteTime": {
     "end_time": "2025-04-20T09:25:17.224720Z",
     "start_time": "2025-04-20T09:25:17.046670Z"
    }
   },
   "cell_type": "code",
   "source": [
    "# Load model\n",
    "model = load_model(model_path, device=device)\n"
   ],
   "id": "ee7e3f3c9e6fabec",
   "outputs": [],
   "execution_count": 7
  },
  {
   "metadata": {},
   "cell_type": "code",
   "outputs": [],
   "execution_count": null,
   "source": "",
   "id": "72efa7432a109aaa"
  }
 ],
 "metadata": {
  "kernelspec": {
   "display_name": "Python 3",
   "language": "python",
   "name": "python3"
  },
  "language_info": {
   "codemirror_mode": {
    "name": "ipython",
    "version": 2
   },
   "file_extension": ".py",
   "mimetype": "text/x-python",
   "name": "python",
   "nbconvert_exporter": "python",
   "pygments_lexer": "ipython2",
   "version": "2.7.6"
  }
 },
 "nbformat": 4,
 "nbformat_minor": 5
}
