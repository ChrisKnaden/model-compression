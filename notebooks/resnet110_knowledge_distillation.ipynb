{
 "cells": [
  {
   "metadata": {
    "ExecuteTime": {
     "end_time": "2025-04-13T14:32:19.320386Z",
     "start_time": "2025-04-13T14:32:18.141898Z"
    }
   },
   "cell_type": "code",
   "source": [
    "import torch\n",
    "from torch import nn\n",
    "from src.utils import load_model, save_model\n",
    "from src.data_loader import get_cifar10_loader\n",
    "from src.train import train_model_kd, loss_fn_kd\n",
    "from src.model import ResNet, BasicBlock\n",
    "from src.evaluate import evaluate\n",
    "from src.train import KDParams\n"
   ],
   "id": "ed2ea4d0cb94644f",
   "outputs": [],
   "execution_count": 1
  },
  {
   "metadata": {
    "ExecuteTime": {
     "end_time": "2025-04-13T14:32:19.324364Z",
     "start_time": "2025-04-13T14:32:19.322795Z"
    }
   },
   "cell_type": "code",
   "source": [
    "# Parameters\n",
    "device = torch.device(\"mps\")\n",
    "teacher_model_path = \"models/resnet110_baseline_120_mps.pth\"\n",
    "student_model_path = \"models/pruned_45-30_resnet110_mps.pth\"\n",
    "\n",
    "batch_size = 128\n",
    "learning_rate = 0.001\n",
    "num_epochs = 10\n",
    "kd_alpha = 0.7\n",
    "kd_temperature = 4.0\n"
   ],
   "id": "5b934fda2ff41800",
   "outputs": [],
   "execution_count": 2
  },
  {
   "cell_type": "code",
   "id": "initial_id",
   "metadata": {
    "collapsed": true,
    "ExecuteTime": {
     "end_time": "2025-04-13T14:32:21.711531Z",
     "start_time": "2025-04-13T14:32:20.197982Z"
    }
   },
   "source": [
    "# Load pretrained ResNet model\n",
    "teacher_model = load_model(teacher_model_path, device=device)\n",
    "student_model = load_model(student_model_path, device=device)\n",
    "\n",
    "# Define optimizer and criterion for training\n",
    "optimizer = torch.optim.Adam(student_model.parameters(), lr=learning_rate)\n",
    "criterion = nn.CrossEntropyLoss()\n",
    "\n",
    "# Load data\n",
    "train_loader = get_cifar10_loader('train', batch_size=batch_size)\n",
    "val_loader = get_cifar10_loader('val', batch_size=batch_size)\n",
    "\n",
    "kd_params = KDParams(alpha=kd_alpha, temperature=kd_temperature)\n"
   ],
   "outputs": [],
   "execution_count": 3
  },
  {
   "metadata": {
    "ExecuteTime": {
     "end_time": "2025-04-13T14:47:36.297968Z",
     "start_time": "2025-04-13T14:32:22.783199Z"
    }
   },
   "cell_type": "code",
   "source": [
    "train_model_kd(\n",
    "    student_model=student_model,\n",
    "    teacher_model=teacher_model,\n",
    "    train_loader=train_loader,\n",
    "    optimizer=optimizer,\n",
    "    device=device,\n",
    "    kd_params=kd_params,\n",
    "    num_epochs=num_epochs,\n",
    "    loss_fn_kd=loss_fn_kd,\n",
    "    use_amp=False\n",
    ")\n"
   ],
   "id": "872fbdca3065bcd4",
   "outputs": [
    {
     "name": "stderr",
     "output_type": "stream",
     "text": [
      "                                                                                       \r"
     ]
    }
   ],
   "execution_count": 4
  },
  {
   "metadata": {
    "ExecuteTime": {
     "end_time": "2025-04-13T14:47:46.007177Z",
     "start_time": "2025-04-13T14:47:43.144958Z"
    }
   },
   "cell_type": "code",
   "source": "evaluate(student_model, val_loader, device)",
   "id": "ad31f8732bb41cd9",
   "outputs": [
    {
     "name": "stdout",
     "output_type": "stream",
     "text": [
      "Validation Accuracy: 86.70%, Avg Loss: 0.7681, Time: 2.85s\n"
     ]
    },
    {
     "data": {
      "text/plain": [
       "(86.7, 0.7680780515670776, 2.8539621829986572)"
      ]
     },
     "execution_count": 5,
     "metadata": {},
     "output_type": "execute_result"
    }
   ],
   "execution_count": 5
  },
  {
   "metadata": {
    "ExecuteTime": {
     "end_time": "2025-04-13T14:47:48.404757Z",
     "start_time": "2025-04-13T14:47:48.258669Z"
    }
   },
   "cell_type": "code",
   "source": "save_model(student_model, \"models/pruned_45-30_kd_10_resnet110_mps.pth\")",
   "id": "7b72be6a09f94a36",
   "outputs": [],
   "execution_count": 6
  },
  {
   "metadata": {
    "ExecuteTime": {
     "end_time": "2025-04-12T15:48:56.701985Z",
     "start_time": "2025-04-12T15:48:56.536438Z"
    }
   },
   "cell_type": "code",
   "source": "student_model = load_model(student_model_path, device=device)",
   "id": "64b479409c3d49d1",
   "outputs": [],
   "execution_count": 7
  },
  {
   "metadata": {
    "ExecuteTime": {
     "end_time": "2025-04-12T15:49:00.858712Z",
     "start_time": "2025-04-12T15:48:58.043448Z"
    }
   },
   "cell_type": "code",
   "source": "evaluate(student_model, val_loader, device)",
   "id": "c3ed685594738f9e",
   "outputs": [
    {
     "name": "stdout",
     "output_type": "stream",
     "text": [
      "Validation Accuracy: 84.10%, Avg Loss: 0.5485, Time: 2.81s\n"
     ]
    },
    {
     "data": {
      "text/plain": [
       "(84.1, 0.5484769086837769)"
      ]
     },
     "execution_count": 8,
     "metadata": {},
     "output_type": "execute_result"
    }
   ],
   "execution_count": 8
  }
 ],
 "metadata": {
  "kernelspec": {
   "display_name": "Python 3",
   "language": "python",
   "name": "python3"
  },
  "language_info": {
   "codemirror_mode": {
    "name": "ipython",
    "version": 2
   },
   "file_extension": ".py",
   "mimetype": "text/x-python",
   "name": "python",
   "nbconvert_exporter": "python",
   "pygments_lexer": "ipython2",
   "version": "2.7.6"
  }
 },
 "nbformat": 4,
 "nbformat_minor": 5
}
