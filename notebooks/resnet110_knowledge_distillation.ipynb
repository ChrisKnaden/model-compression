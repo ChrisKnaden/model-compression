{
 "cells": [
  {
   "metadata": {
    "ExecuteTime": {
     "end_time": "2025-04-06T13:52:36.300762Z",
     "start_time": "2025-04-06T13:52:35.151929Z"
    }
   },
   "cell_type": "code",
   "source": [
    "import torch\n",
    "from torch import nn\n",
    "from src.utils import load_model\n",
    "from src.data_loader import get_cifar10_loader\n",
    "from src.train import train_model_kd, loss_fn_kd\n",
    "from src.model import ResNet, BasicBlock\n",
    "from src.evaluate import evaluate\n",
    "from src.train import KDParams\n"
   ],
   "id": "ed2ea4d0cb94644f",
   "outputs": [],
   "execution_count": 1
  },
  {
   "metadata": {
    "ExecuteTime": {
     "end_time": "2025-04-06T13:52:36.304651Z",
     "start_time": "2025-04-06T13:52:36.303171Z"
    }
   },
   "cell_type": "code",
   "source": [
    "# Parameters\n",
    "device = torch.device(\"mps\")\n",
    "teacher_model_path = \"pruned_34-30_resnet110_mps.pth\"\n",
    "student_model_path = \"pruned_50_resnet110.pth\"\n",
    "\n",
    "batch_size = 128\n",
    "learning_rate = 0.001\n",
    "num_epochs = 1\n",
    "kd_alpha = 0.7\n",
    "kd_temperature = 4.0\n"
   ],
   "id": "5b934fda2ff41800",
   "outputs": [],
   "execution_count": 2
  },
  {
   "cell_type": "code",
   "id": "initial_id",
   "metadata": {
    "collapsed": true,
    "ExecuteTime": {
     "end_time": "2025-04-06T13:52:38.367422Z",
     "start_time": "2025-04-06T13:52:36.819706Z"
    }
   },
   "source": [
    "# Load pretrained ResNet model\n",
    "teacher_model = load_model(teacher_model_path, device=device)\n",
    "student_model = load_model(student_model_path, device=device)\n",
    "\n",
    "# Define optimizer and criterion for training\n",
    "optimizer = torch.optim.Adam(student_model.parameters(), lr=learning_rate)\n",
    "criterion = nn.CrossEntropyLoss()\n",
    "\n",
    "# Load data\n",
    "train_loader = get_cifar10_loader('train', batch_size=batch_size)\n",
    "val_loader = get_cifar10_loader('val', batch_size=batch_size)\n",
    "\n",
    "kd_params = KDParams(alpha=kd_alpha, temperature=kd_temperature)\n"
   ],
   "outputs": [],
   "execution_count": 3
  },
  {
   "metadata": {
    "ExecuteTime": {
     "end_time": "2025-04-06T13:53:33.260246Z",
     "start_time": "2025-04-06T13:52:38.371398Z"
    }
   },
   "cell_type": "code",
   "source": [
    "train_model_kd(\n",
    "    student_model=student_model,\n",
    "    teacher_model=teacher_model,\n",
    "    train_loader=train_loader,\n",
    "    optimizer=optimizer,\n",
    "    device=device,\n",
    "    kd_params=kd_params,\n",
    "    num_epochs=num_epochs,\n",
    "    loss_fn_kd=loss_fn_kd,\n",
    "    use_amp=False\n",
    ")\n"
   ],
   "id": "872fbdca3065bcd4",
   "outputs": [
    {
     "name": "stderr",
     "output_type": "stream",
     "text": [
      "                                                                                     \r"
     ]
    }
   ],
   "execution_count": 4
  },
  {
   "metadata": {
    "ExecuteTime": {
     "end_time": "2025-04-06T13:53:35.597118Z",
     "start_time": "2025-04-06T13:53:33.267780Z"
    }
   },
   "cell_type": "code",
   "source": "evaluate(student_model, val_loader, device)",
   "id": "ad31f8732bb41cd9",
   "outputs": [
    {
     "name": "stdout",
     "output_type": "stream",
     "text": [
      "Validation Accuracy: 78.44%, Avg Loss: 0.7406, Time: 2.32s\n"
     ]
    },
    {
     "data": {
      "text/plain": [
       "(78.44, 0.740568988609314)"
      ]
     },
     "execution_count": 5,
     "metadata": {},
     "output_type": "execute_result"
    }
   ],
   "execution_count": 5
  },
  {
   "metadata": {},
   "cell_type": "code",
   "outputs": [],
   "execution_count": null,
   "source": "",
   "id": "ca8dc2d10d3ce9a3"
  }
 ],
 "metadata": {
  "kernelspec": {
   "display_name": "Python 3",
   "language": "python",
   "name": "python3"
  },
  "language_info": {
   "codemirror_mode": {
    "name": "ipython",
    "version": 2
   },
   "file_extension": ".py",
   "mimetype": "text/x-python",
   "name": "python",
   "nbconvert_exporter": "python",
   "pygments_lexer": "ipython2",
   "version": "2.7.6"
  }
 },
 "nbformat": 4,
 "nbformat_minor": 5
}
