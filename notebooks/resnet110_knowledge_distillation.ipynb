{
 "cells": [
  {
   "metadata": {
    "ExecuteTime": {
     "end_time": "2025-04-27T19:58:15.240623Z",
     "start_time": "2025-04-27T19:58:13.909763Z"
    }
   },
   "cell_type": "code",
   "source": [
    "import torch\n",
    "from torch import nn\n",
    "from src.utils import load_model, save_model\n",
    "from src.data_loader import get_cifar10_loader\n",
    "from src.train import train_model_kd, loss_fn_kd\n",
    "from src.model import ResNet, BasicBlock\n",
    "from src.evaluate import evaluate\n"
   ],
   "id": "ed2ea4d0cb94644f",
   "outputs": [],
   "execution_count": 1
  },
  {
   "metadata": {
    "ExecuteTime": {
     "end_time": "2025-04-27T19:58:15.245454Z",
     "start_time": "2025-04-27T19:58:15.243633Z"
    }
   },
   "cell_type": "code",
   "source": [
    "# Parameters\n",
    "device = torch.device(\"mps\")\n",
    "teacher_model_path = \"models/resnet110_baseline_120_mps.pth\"\n",
    "student_model_path = \"models/pruned_45-30_resnet110_mps.pth\"\n",
    "\n",
    "batch_size = 128\n",
    "learning_rate = 0.001\n",
    "num_epochs = 10\n",
    "kd_alpha = 0.7\n",
    "kd_temperature = 4.0\n"
   ],
   "id": "5b934fda2ff41800",
   "outputs": [],
   "execution_count": 2
  },
  {
   "cell_type": "code",
   "id": "initial_id",
   "metadata": {
    "collapsed": true,
    "ExecuteTime": {
     "end_time": "2025-04-27T19:58:17.504569Z",
     "start_time": "2025-04-27T19:58:15.852419Z"
    }
   },
   "source": [
    "# Load pretrained ResNet model\n",
    "teacher_model = load_model(teacher_model_path, device=device)\n",
    "student_model = load_model(student_model_path, device=device)\n",
    "\n",
    "# Define optimizer and criterion for training\n",
    "optimizer = torch.optim.Adam(student_model.parameters(), lr=learning_rate)\n",
    "criterion = nn.CrossEntropyLoss()\n",
    "\n",
    "# Load data\n",
    "train_loader = get_cifar10_loader('train', batch_size=batch_size)\n",
    "val_loader = get_cifar10_loader('val', batch_size=batch_size)\n"
   ],
   "outputs": [],
   "execution_count": 3
  },
  {
   "metadata": {
    "ExecuteTime": {
     "start_time": "2025-04-27T19:58:17.508506Z"
    }
   },
   "cell_type": "code",
   "source": [
    "train_model_kd(\n",
    "    student_model=student_model,\n",
    "    teacher_model=teacher_model,\n",
    "    train_loader=train_loader,\n",
    "    optimizer=optimizer,\n",
    "    device=device,\n",
    "    num_epochs=num_epochs,\n",
    "    temperature=kd_temperature,\n",
    "    alpha=kd_alpha,\n",
    ")\n"
   ],
   "id": "872fbdca3065bcd4",
   "outputs": [
    {
     "name": "stderr",
     "output_type": "stream",
     "text": [
      "Epoch 2/10:   2%|▏         | 8/391 [00:03<03:06,  2.05it/s, acc=94.63%, loss=1.1864]  "
     ]
    }
   ],
   "execution_count": null
  },
  {
   "metadata": {
    "ExecuteTime": {
     "end_time": "2025-04-26T10:53:48.135037Z",
     "start_time": "2025-04-26T10:53:44.555840Z"
    }
   },
   "cell_type": "code",
   "source": "evaluate(student_model, val_loader, device)",
   "id": "ad31f8732bb41cd9",
   "outputs": [
    {
     "name": "stdout",
     "output_type": "stream",
     "text": [
      "Validation Accuracy: 88.47%, Avg Loss: 0.6132, Time: 3.57s\n"
     ]
    },
    {
     "data": {
      "text/plain": [
       "(88.47, 0.6131786368846893, 3.5690488815307617)"
      ]
     },
     "execution_count": 5,
     "metadata": {},
     "output_type": "execute_result"
    }
   ],
   "execution_count": 5
  },
  {
   "metadata": {
    "ExecuteTime": {
     "end_time": "2025-04-26T10:53:48.287344Z",
     "start_time": "2025-04-26T10:53:48.142056Z"
    }
   },
   "cell_type": "code",
   "source": "save_model(student_model, \"pruned_45-30_kd_10_resnet110_mps.pth\")",
   "id": "7b72be6a09f94a36",
   "outputs": [],
   "execution_count": 6
  },
  {
   "metadata": {},
   "cell_type": "code",
   "outputs": [],
   "execution_count": null,
   "source": "",
   "id": "b06d798159f7b4cc"
  }
 ],
 "metadata": {
  "kernelspec": {
   "display_name": "Python 3",
   "language": "python",
   "name": "python3"
  },
  "language_info": {
   "codemirror_mode": {
    "name": "ipython",
    "version": 2
   },
   "file_extension": ".py",
   "mimetype": "text/x-python",
   "name": "python",
   "nbconvert_exporter": "python",
   "pygments_lexer": "ipython2",
   "version": "2.7.6"
  }
 },
 "nbformat": 4,
 "nbformat_minor": 5
}
