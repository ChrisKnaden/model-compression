{
 "cells": [
  {
   "metadata": {
    "ExecuteTime": {
     "end_time": "2025-04-14T11:54:37.798962Z",
     "start_time": "2025-04-14T11:54:33.349385Z"
    }
   },
   "cell_type": "code",
   "source": [
    "# You might be required to install other packages. The most important one is torch-pruning.\n",
    "#\n",
    "!pip install torch-pruning==1.5.2\n",
    "!pip install torch\n",
    "!pip install pandas\n",
    "!pip install matplotlib\n",
    "!pip install torchvision\n",
    "!pip install tqdm"
   ],
   "id": "1dd28d3f23784479",
   "outputs": [
    {
     "name": "stdout",
     "output_type": "stream",
     "text": [
      "Requirement already satisfied: torch-pruning==1.5.2 in /Users/christophknaden/git/model-compression/.venv/lib/python3.11/site-packages (1.5.2)\r\n",
      "Requirement already satisfied: torch in /Users/christophknaden/git/model-compression/.venv/lib/python3.11/site-packages (from torch-pruning==1.5.2) (2.6.0)\r\n",
      "Requirement already satisfied: numpy in /Users/christophknaden/git/model-compression/.venv/lib/python3.11/site-packages (from torch-pruning==1.5.2) (2.2.4)\r\n",
      "Requirement already satisfied: filelock in /Users/christophknaden/git/model-compression/.venv/lib/python3.11/site-packages (from torch->torch-pruning==1.5.2) (3.18.0)\r\n",
      "Requirement already satisfied: typing-extensions>=4.10.0 in /Users/christophknaden/git/model-compression/.venv/lib/python3.11/site-packages (from torch->torch-pruning==1.5.2) (4.13.2)\r\n",
      "Requirement already satisfied: networkx in /Users/christophknaden/git/model-compression/.venv/lib/python3.11/site-packages (from torch->torch-pruning==1.5.2) (3.4.2)\r\n",
      "Requirement already satisfied: jinja2 in /Users/christophknaden/git/model-compression/.venv/lib/python3.11/site-packages (from torch->torch-pruning==1.5.2) (3.1.6)\r\n",
      "Requirement already satisfied: fsspec in /Users/christophknaden/git/model-compression/.venv/lib/python3.11/site-packages (from torch->torch-pruning==1.5.2) (2025.3.2)\r\n",
      "Requirement already satisfied: sympy==1.13.1 in /Users/christophknaden/git/model-compression/.venv/lib/python3.11/site-packages (from torch->torch-pruning==1.5.2) (1.13.1)\r\n",
      "Requirement already satisfied: mpmath<1.4,>=1.1.0 in /Users/christophknaden/git/model-compression/.venv/lib/python3.11/site-packages (from sympy==1.13.1->torch->torch-pruning==1.5.2) (1.3.0)\r\n",
      "Requirement already satisfied: MarkupSafe>=2.0 in /Users/christophknaden/git/model-compression/.venv/lib/python3.11/site-packages (from jinja2->torch->torch-pruning==1.5.2) (3.0.2)\r\n",
      "\r\n",
      "\u001B[1m[\u001B[0m\u001B[34;49mnotice\u001B[0m\u001B[1;39;49m]\u001B[0m\u001B[39;49m A new release of pip is available: \u001B[0m\u001B[31;49m23.2.1\u001B[0m\u001B[39;49m -> \u001B[0m\u001B[32;49m25.0.1\u001B[0m\r\n",
      "\u001B[1m[\u001B[0m\u001B[34;49mnotice\u001B[0m\u001B[1;39;49m]\u001B[0m\u001B[39;49m To update, run: \u001B[0m\u001B[32;49mpip install --upgrade pip\u001B[0m\r\n",
      "Requirement already satisfied: torch in /Users/christophknaden/git/model-compression/.venv/lib/python3.11/site-packages (2.6.0)\r\n",
      "Requirement already satisfied: filelock in /Users/christophknaden/git/model-compression/.venv/lib/python3.11/site-packages (from torch) (3.18.0)\r\n",
      "Requirement already satisfied: typing-extensions>=4.10.0 in /Users/christophknaden/git/model-compression/.venv/lib/python3.11/site-packages (from torch) (4.13.2)\r\n",
      "Requirement already satisfied: networkx in /Users/christophknaden/git/model-compression/.venv/lib/python3.11/site-packages (from torch) (3.4.2)\r\n",
      "Requirement already satisfied: jinja2 in /Users/christophknaden/git/model-compression/.venv/lib/python3.11/site-packages (from torch) (3.1.6)\r\n",
      "Requirement already satisfied: fsspec in /Users/christophknaden/git/model-compression/.venv/lib/python3.11/site-packages (from torch) (2025.3.2)\r\n",
      "Requirement already satisfied: sympy==1.13.1 in /Users/christophknaden/git/model-compression/.venv/lib/python3.11/site-packages (from torch) (1.13.1)\r\n",
      "Requirement already satisfied: mpmath<1.4,>=1.1.0 in /Users/christophknaden/git/model-compression/.venv/lib/python3.11/site-packages (from sympy==1.13.1->torch) (1.3.0)\r\n",
      "Requirement already satisfied: MarkupSafe>=2.0 in /Users/christophknaden/git/model-compression/.venv/lib/python3.11/site-packages (from jinja2->torch) (3.0.2)\r\n",
      "\r\n",
      "\u001B[1m[\u001B[0m\u001B[34;49mnotice\u001B[0m\u001B[1;39;49m]\u001B[0m\u001B[39;49m A new release of pip is available: \u001B[0m\u001B[31;49m23.2.1\u001B[0m\u001B[39;49m -> \u001B[0m\u001B[32;49m25.0.1\u001B[0m\r\n",
      "\u001B[1m[\u001B[0m\u001B[34;49mnotice\u001B[0m\u001B[1;39;49m]\u001B[0m\u001B[39;49m To update, run: \u001B[0m\u001B[32;49mpip install --upgrade pip\u001B[0m\r\n",
      "Requirement already satisfied: pandas in /Users/christophknaden/git/model-compression/.venv/lib/python3.11/site-packages (2.2.3)\r\n",
      "Requirement already satisfied: numpy>=1.23.2 in /Users/christophknaden/git/model-compression/.venv/lib/python3.11/site-packages (from pandas) (2.2.4)\r\n",
      "Requirement already satisfied: python-dateutil>=2.8.2 in /Users/christophknaden/git/model-compression/.venv/lib/python3.11/site-packages (from pandas) (2.9.0.post0)\r\n",
      "Requirement already satisfied: pytz>=2020.1 in /Users/christophknaden/git/model-compression/.venv/lib/python3.11/site-packages (from pandas) (2025.2)\r\n",
      "Requirement already satisfied: tzdata>=2022.7 in /Users/christophknaden/git/model-compression/.venv/lib/python3.11/site-packages (from pandas) (2025.2)\r\n",
      "Requirement already satisfied: six>=1.5 in /Users/christophknaden/git/model-compression/.venv/lib/python3.11/site-packages (from python-dateutil>=2.8.2->pandas) (1.17.0)\r\n",
      "\r\n",
      "\u001B[1m[\u001B[0m\u001B[34;49mnotice\u001B[0m\u001B[1;39;49m]\u001B[0m\u001B[39;49m A new release of pip is available: \u001B[0m\u001B[31;49m23.2.1\u001B[0m\u001B[39;49m -> \u001B[0m\u001B[32;49m25.0.1\u001B[0m\r\n",
      "\u001B[1m[\u001B[0m\u001B[34;49mnotice\u001B[0m\u001B[1;39;49m]\u001B[0m\u001B[39;49m To update, run: \u001B[0m\u001B[32;49mpip install --upgrade pip\u001B[0m\r\n",
      "Requirement already satisfied: matplotlib in /Users/christophknaden/git/model-compression/.venv/lib/python3.11/site-packages (3.10.1)\r\n",
      "Requirement already satisfied: contourpy>=1.0.1 in /Users/christophknaden/git/model-compression/.venv/lib/python3.11/site-packages (from matplotlib) (1.3.1)\r\n",
      "Requirement already satisfied: cycler>=0.10 in /Users/christophknaden/git/model-compression/.venv/lib/python3.11/site-packages (from matplotlib) (0.12.1)\r\n",
      "Requirement already satisfied: fonttools>=4.22.0 in /Users/christophknaden/git/model-compression/.venv/lib/python3.11/site-packages (from matplotlib) (4.57.0)\r\n",
      "Requirement already satisfied: kiwisolver>=1.3.1 in /Users/christophknaden/git/model-compression/.venv/lib/python3.11/site-packages (from matplotlib) (1.4.8)\r\n",
      "Requirement already satisfied: numpy>=1.23 in /Users/christophknaden/git/model-compression/.venv/lib/python3.11/site-packages (from matplotlib) (2.2.4)\r\n",
      "Requirement already satisfied: packaging>=20.0 in /Users/christophknaden/git/model-compression/.venv/lib/python3.11/site-packages (from matplotlib) (24.2)\r\n",
      "Requirement already satisfied: pillow>=8 in /Users/christophknaden/git/model-compression/.venv/lib/python3.11/site-packages (from matplotlib) (11.2.1)\r\n",
      "Requirement already satisfied: pyparsing>=2.3.1 in /Users/christophknaden/git/model-compression/.venv/lib/python3.11/site-packages (from matplotlib) (3.2.3)\r\n",
      "Requirement already satisfied: python-dateutil>=2.7 in /Users/christophknaden/git/model-compression/.venv/lib/python3.11/site-packages (from matplotlib) (2.9.0.post0)\r\n",
      "Requirement already satisfied: six>=1.5 in /Users/christophknaden/git/model-compression/.venv/lib/python3.11/site-packages (from python-dateutil>=2.7->matplotlib) (1.17.0)\r\n",
      "\r\n",
      "\u001B[1m[\u001B[0m\u001B[34;49mnotice\u001B[0m\u001B[1;39;49m]\u001B[0m\u001B[39;49m A new release of pip is available: \u001B[0m\u001B[31;49m23.2.1\u001B[0m\u001B[39;49m -> \u001B[0m\u001B[32;49m25.0.1\u001B[0m\r\n",
      "\u001B[1m[\u001B[0m\u001B[34;49mnotice\u001B[0m\u001B[1;39;49m]\u001B[0m\u001B[39;49m To update, run: \u001B[0m\u001B[32;49mpip install --upgrade pip\u001B[0m\r\n",
      "Requirement already satisfied: torchvision in /Users/christophknaden/git/model-compression/.venv/lib/python3.11/site-packages (0.21.0)\r\n",
      "Requirement already satisfied: numpy in /Users/christophknaden/git/model-compression/.venv/lib/python3.11/site-packages (from torchvision) (2.2.4)\r\n",
      "Requirement already satisfied: torch==2.6.0 in /Users/christophknaden/git/model-compression/.venv/lib/python3.11/site-packages (from torchvision) (2.6.0)\r\n",
      "Requirement already satisfied: pillow!=8.3.*,>=5.3.0 in /Users/christophknaden/git/model-compression/.venv/lib/python3.11/site-packages (from torchvision) (11.2.1)\r\n",
      "Requirement already satisfied: filelock in /Users/christophknaden/git/model-compression/.venv/lib/python3.11/site-packages (from torch==2.6.0->torchvision) (3.18.0)\r\n",
      "Requirement already satisfied: typing-extensions>=4.10.0 in /Users/christophknaden/git/model-compression/.venv/lib/python3.11/site-packages (from torch==2.6.0->torchvision) (4.13.2)\r\n",
      "Requirement already satisfied: networkx in /Users/christophknaden/git/model-compression/.venv/lib/python3.11/site-packages (from torch==2.6.0->torchvision) (3.4.2)\r\n",
      "Requirement already satisfied: jinja2 in /Users/christophknaden/git/model-compression/.venv/lib/python3.11/site-packages (from torch==2.6.0->torchvision) (3.1.6)\r\n",
      "Requirement already satisfied: fsspec in /Users/christophknaden/git/model-compression/.venv/lib/python3.11/site-packages (from torch==2.6.0->torchvision) (2025.3.2)\r\n",
      "Requirement already satisfied: sympy==1.13.1 in /Users/christophknaden/git/model-compression/.venv/lib/python3.11/site-packages (from torch==2.6.0->torchvision) (1.13.1)\r\n",
      "Requirement already satisfied: mpmath<1.4,>=1.1.0 in /Users/christophknaden/git/model-compression/.venv/lib/python3.11/site-packages (from sympy==1.13.1->torch==2.6.0->torchvision) (1.3.0)\r\n",
      "Requirement already satisfied: MarkupSafe>=2.0 in /Users/christophknaden/git/model-compression/.venv/lib/python3.11/site-packages (from jinja2->torch==2.6.0->torchvision) (3.0.2)\r\n",
      "\r\n",
      "\u001B[1m[\u001B[0m\u001B[34;49mnotice\u001B[0m\u001B[1;39;49m]\u001B[0m\u001B[39;49m A new release of pip is available: \u001B[0m\u001B[31;49m23.2.1\u001B[0m\u001B[39;49m -> \u001B[0m\u001B[32;49m25.0.1\u001B[0m\r\n",
      "\u001B[1m[\u001B[0m\u001B[34;49mnotice\u001B[0m\u001B[1;39;49m]\u001B[0m\u001B[39;49m To update, run: \u001B[0m\u001B[32;49mpip install --upgrade pip\u001B[0m\r\n",
      "Collecting tqdm\r\n",
      "  Obtaining dependency information for tqdm from https://files.pythonhosted.org/packages/d0/30/dc54f88dd4a2b5dc8a0279bdd7270e735851848b762aeb1c1184ed1f6b14/tqdm-4.67.1-py3-none-any.whl.metadata\r\n",
      "  Using cached tqdm-4.67.1-py3-none-any.whl.metadata (57 kB)\r\n",
      "Using cached tqdm-4.67.1-py3-none-any.whl (78 kB)\r\n",
      "Installing collected packages: tqdm\r\n",
      "Successfully installed tqdm-4.67.1\r\n",
      "\r\n",
      "\u001B[1m[\u001B[0m\u001B[34;49mnotice\u001B[0m\u001B[1;39;49m]\u001B[0m\u001B[39;49m A new release of pip is available: \u001B[0m\u001B[31;49m23.2.1\u001B[0m\u001B[39;49m -> \u001B[0m\u001B[32;49m25.0.1\u001B[0m\r\n",
      "\u001B[1m[\u001B[0m\u001B[34;49mnotice\u001B[0m\u001B[1;39;49m]\u001B[0m\u001B[39;49m To update, run: \u001B[0m\u001B[32;49mpip install --upgrade pip\u001B[0m\r\n"
     ]
    }
   ],
   "execution_count": 6
  },
  {
   "metadata": {},
   "cell_type": "markdown",
   "source": [
    "# Pipeline for Multiple Model Compression Techniques\n",
    "This pipeline will demonstrate pruning, quantization, knowledge distillation and their combination. At the end there will be an evaluation of different models."
   ],
   "id": "cd874c09e343260a"
  },
  {
   "metadata": {},
   "cell_type": "markdown",
   "source": "## Imports",
   "id": "c075a17abf2d43ff"
  },
  {
   "cell_type": "code",
   "id": "initial_id",
   "metadata": {
    "collapsed": true,
    "ExecuteTime": {
     "end_time": "2025-04-14T11:54:48.776002Z",
     "start_time": "2025-04-14T11:54:48.773040Z"
    }
   },
   "source": [
    "import torch\n",
    "from torch import nn\n",
    "import torch_pruning as tp\n",
    "import pandas as pd\n",
    "from src.model import ResNet, BasicBlock, resnet110\n",
    "from src.utils import load_model, save_model, iterative_pruner, load_quantized_model\n",
    "from src.data_loader import get_cifar10_loader\n",
    "from src.train import train_model, train_model_kd, loss_fn_kd, KDParams\n",
    "from src.evaluate import evaluate, measure_inference_time, count_total_parameters, evaluate_model_all_metrics, estimate_model_memory_footprint_from_bits, visualize_model_predictions\n"
   ],
   "outputs": [],
   "execution_count": 8
  },
  {
   "metadata": {},
   "cell_type": "markdown",
   "source": "## Base Parameters",
   "id": "fba38a3ea3f5aa91"
  },
  {
   "metadata": {
    "ExecuteTime": {
     "end_time": "2025-04-14T11:54:51.884340Z",
     "start_time": "2025-04-14T11:54:51.881144Z"
    }
   },
   "cell_type": "code",
   "source": [
    "gpu = \"mps\"\n",
    "device = torch.device(gpu)\n",
    "\n",
    "model_path = \"models/resnet110_baseline_120_mps.pth\"\n",
    "\n",
    "batch_size = 128\n"
   ],
   "id": "e03025e7312c101c",
   "outputs": [],
   "execution_count": 9
  },
  {
   "metadata": {},
   "cell_type": "markdown",
   "source": "## Pruning",
   "id": "9b8d9635e0a848de"
  },
  {
   "metadata": {
    "ExecuteTime": {
     "end_time": "2025-04-14T11:54:54.834814Z",
     "start_time": "2025-04-14T11:54:54.604203Z"
    }
   },
   "cell_type": "code",
   "source": [
    "# load base model\n",
    "model = load_model(model_path, device)\n",
    "pruned_model = model\n",
    "\n",
    "count_total_parameters(model)\n",
    "\n",
    "# Channel sparsity / Pruning ratio\n",
    "# ch_sparsity = 0.15 -> 1228878 ca. 30%\n",
    "# ch_sparsity = 0.29 -> 848388  ca. 50%\n",
    "# ch_sparsity = 0.45 -> 509972  ca. 70%\n",
    "# ch_sparsity = 0.95 -> 6765    ca. 0.39%\n",
    "\n",
    "ch_sparsity = 0.45\n",
    "iterative_pruning_steps = 5"
   ],
   "id": "c95bb761d011601e",
   "outputs": [
    {
     "name": "stdout",
     "output_type": "stream",
     "text": [
      "Total number of parameters in the model: 1730714\n"
     ]
    }
   ],
   "execution_count": 10
  },
  {
   "metadata": {
    "ExecuteTime": {
     "end_time": "2025-04-14T11:54:56.615890Z",
     "start_time": "2025-04-14T11:54:55.878005Z"
    }
   },
   "cell_type": "code",
   "source": [
    "# For pruning the model has to be on the cpu\n",
    "pruned_model.to(\"cpu\")\n",
    "example_inputs = torch.randn(1, 3, 32, 32)\n",
    "\n",
    "# Importance Criterion\n",
    "imp = tp.importance.TaylorImportance()\n",
    "\n",
    "# Initialization of pruner\n",
    "pruner = tp.pruner.MagnitudePruner(\n",
    "    pruned_model,\n",
    "    example_inputs,\n",
    "    importance=imp,\n",
    "    iterative_steps=iterative_pruning_steps,\n",
    "    ch_sparsity=ch_sparsity,\n",
    ")\n",
    "\n",
    "# Actual pruning\n",
    "iterative_pruner(pruner, iterative_pruning_steps)\n"
   ],
   "id": "dfdbf22fe9209e13",
   "outputs": [
    {
     "name": "stderr",
     "output_type": "stream",
     "text": [
      "/Users/christophknaden/git/model-compression/.venv/lib/python3.11/site-packages/torch_pruning/pruner/algorithms/base_pruner.py:87: UserWarning: ch_sparsity is deprecated in v1.3.0. Please use pruning_ratio.\n",
      "  warnings.warn(\n"
     ]
    }
   ],
   "execution_count": 11
  },
  {
   "metadata": {
    "ExecuteTime": {
     "end_time": "2025-04-14T11:54:57.364460Z",
     "start_time": "2025-04-14T11:54:57.358490Z"
    }
   },
   "cell_type": "code",
   "source": "count_total_parameters(pruned_model)",
   "id": "75b0d634b11bb47d",
   "outputs": [
    {
     "name": "stdout",
     "output_type": "stream",
     "text": [
      "Total number of parameters in the model: 509972\n"
     ]
    },
    {
     "data": {
      "text/plain": [
       "509972"
      ]
     },
     "execution_count": 12,
     "metadata": {},
     "output_type": "execute_result"
    }
   ],
   "execution_count": 12
  },
  {
   "metadata": {},
   "cell_type": "markdown",
   "source": "## Quantization",
   "id": "f61e89ddc032b239"
  },
  {
   "metadata": {
    "ExecuteTime": {
     "end_time": "2025-04-14T11:55:02.023966Z",
     "start_time": "2025-04-14T11:55:02.021449Z"
    }
   },
   "cell_type": "code",
   "source": [
    "# Quantization requires to be made on the cpu\n",
    "device = torch.device(\"cpu\")\n",
    "\n",
    "# Set the quantization backend to 'qnnpack', which is optimized for ARM CPUs (e.g., mobile devices)\n",
    "# This enables efficient int8 operations during inference using PyTorch Mobile\n",
    "backend = 'qnnpack'\n"
   ],
   "id": "e4006b44aa119d07",
   "outputs": [],
   "execution_count": 13
  },
  {
   "metadata": {
    "ExecuteTime": {
     "end_time": "2025-04-14T11:55:16.311906Z",
     "start_time": "2025-04-14T11:55:03.190551Z"
    }
   },
   "cell_type": "code",
   "source": [
    "# Load base model again\n",
    "model = load_model(model_path, device=device)\n",
    "\n",
    "# Load data\n",
    "val_loader = get_cifar10_loader('val', batch_size=batch_size)\n",
    "val_loader_subset = get_cifar10_loader('val', batch_size=batch_size, subset_size=1000)"
   ],
   "id": "70b6d6f1da1888a4",
   "outputs": [
    {
     "name": "stderr",
     "output_type": "stream",
     "text": [
      "100.0%\n"
     ]
    }
   ],
   "execution_count": 14
  },
  {
   "metadata": {
    "ExecuteTime": {
     "end_time": "2025-04-14T11:55:22.645687Z",
     "start_time": "2025-04-14T11:55:16.316904Z"
    }
   },
   "cell_type": "code",
   "source": [
    "model.to(device=device)\n",
    "\n",
    "# Set the backend\n",
    "torch.backends.quantized.engine = backend\n",
    "\n",
    "model_fp32 = model\n",
    "model_fp32.eval()\n",
    "\n",
    "# Fuse modules (e.g., Conv+BN+ReLU) for better quantization accuracy\n",
    "model_fp32.fuse_model()\n",
    "\n",
    "# Set the quantization config for the model\n",
    "model_fp32.qconfig = torch.quantization.get_default_qconfig(backend)\n",
    "\n",
    "# Insert observers for calibration\n",
    "model_fp32_prepared = torch.quantization.prepare(model_fp32, inplace = False)\n",
    "\n",
    "# Run the model to collect activation stats for quantization\n",
    "evaluate(model_fp32_prepared, val_loader_subset, device)\n",
    "\n",
    "# Convert the calibrated model to quantized version\n",
    "model_quantized = torch.quantization.convert(model_fp32_prepared)\n",
    "\n",
    "# Custom function to quantize model\n",
    "# model_quantized = quantize_model(model, val_loader_subset, device, backend=backend)"
   ],
   "id": "a22687c0342bfb7b",
   "outputs": [
    {
     "name": "stdout",
     "output_type": "stream",
     "text": [
      "Validation Accuracy: 90.60%, Avg Loss: 0.4403, Time: 5.78s\n"
     ]
    }
   ],
   "execution_count": 15
  },
  {
   "metadata": {
    "ExecuteTime": {
     "end_time": "2025-04-14T11:55:51.032305Z",
     "start_time": "2025-04-14T11:55:22.658862Z"
    }
   },
   "cell_type": "code",
   "source": "evaluate(model_quantized, val_loader, device)",
   "id": "70a239bc2a432587",
   "outputs": [
    {
     "name": "stdout",
     "output_type": "stream",
     "text": [
      "Validation Accuracy: 90.04%, Avg Loss: 0.5063, Time: 28.37s\n"
     ]
    },
    {
     "data": {
      "text/plain": [
       "(90.04, 0.5063039546966552, 28.369560718536377)"
      ]
     },
     "execution_count": 16,
     "metadata": {},
     "output_type": "execute_result"
    }
   ],
   "execution_count": 16
  },
  {
   "metadata": {
    "ExecuteTime": {
     "end_time": "2025-04-14T11:57:10.250421Z",
     "start_time": "2025-04-14T11:55:51.044629Z"
    }
   },
   "cell_type": "code",
   "source": [
    "# Measure and compare inference time for float and quantized models\n",
    "time_float = measure_inference_time(model, val_loader, device=device)\n",
    "time_quant = measure_inference_time(model_quantized, val_loader, device=device)\n",
    "\n",
    "print(f\"Average inference time per batch (float model): {time_float:.4f} seconds\")\n",
    "print(f\"Average inference time per batch (quantized model): {time_quant:.4f} seconds\")\n"
   ],
   "id": "735a2b36051a0319",
   "outputs": [
    {
     "name": "stdout",
     "output_type": "stream",
     "text": [
      "Average inference time per batch (float model): 0.4327 seconds\n",
      "Average inference time per batch (quantized model): 0.3018 seconds\n"
     ]
    }
   ],
   "execution_count": 17
  },
  {
   "metadata": {},
   "cell_type": "markdown",
   "source": "## Knowledge Distillation",
   "id": "4ef0e1ef416c9051"
  },
  {
   "metadata": {
    "ExecuteTime": {
     "end_time": "2025-04-14T11:57:10.278146Z",
     "start_time": "2025-04-14T11:57:10.276029Z"
    }
   },
   "cell_type": "code",
   "source": [
    "# Set device to GPU for faster training\n",
    "device = torch.device(gpu)\n",
    "teacher_model_path = \"models/resnet110_baseline_120_mps.pth\"\n",
    "student_model_path = \"models/pruned_45-30_resnet110_mps.pth\"\n",
    "\n",
    "learning_rate = 0.001\n",
    "num_epochs = 1\n",
    "kd_alpha = 0.7\n",
    "kd_temperature = 4.0\n"
   ],
   "id": "24a011c325679060",
   "outputs": [],
   "execution_count": 18
  },
  {
   "metadata": {
    "ExecuteTime": {
     "end_time": "2025-04-14T11:57:12.075099Z",
     "start_time": "2025-04-14T11:57:10.301505Z"
    }
   },
   "cell_type": "code",
   "source": [
    "# Load pretrained models\n",
    "teacher_model = load_model(teacher_model_path, device=device)\n",
    "student_model = load_model(student_model_path, device=device)\n",
    "\n",
    "# Define optimizer and criterion for training\n",
    "optimizer = torch.optim.Adam(student_model.parameters(), lr=learning_rate)\n",
    "criterion = nn.CrossEntropyLoss()\n",
    "\n",
    "# Load data\n",
    "train_loader = get_cifar10_loader('train', batch_size=batch_size)\n",
    "val_loader = get_cifar10_loader('val', batch_size=batch_size)\n",
    "\n",
    "# Set alpha and temperature parameters for Knowledge Distillation\n",
    "kd_params = KDParams(alpha=kd_alpha, temperature=kd_temperature)\n"
   ],
   "id": "f777e36d1aef5718",
   "outputs": [],
   "execution_count": 19
  },
  {
   "metadata": {
    "ExecuteTime": {
     "end_time": "2025-04-14T11:57:17.191592Z",
     "start_time": "2025-04-14T11:57:12.089001Z"
    }
   },
   "cell_type": "code",
   "source": [
    "# Student accuracy before\n",
    "evaluate(student_model, val_loader, device)"
   ],
   "id": "ce45765e1039d49a",
   "outputs": [
    {
     "name": "stdout",
     "output_type": "stream",
     "text": [
      "Validation Accuracy: 86.49%, Avg Loss: 0.4796, Time: 5.10s\n"
     ]
    },
    {
     "data": {
      "text/plain": [
       "(86.49, 0.4795557653427124, 5.097616195678711)"
      ]
     },
     "execution_count": 20,
     "metadata": {},
     "output_type": "execute_result"
    }
   ],
   "execution_count": 20
  },
  {
   "metadata": {
    "ExecuteTime": {
     "end_time": "2025-04-14T11:58:41.231186Z",
     "start_time": "2025-04-14T11:57:17.205155Z"
    }
   },
   "cell_type": "code",
   "source": [
    "# Actual Knowledge Distillation\n",
    "train_model_kd(\n",
    "    student_model=student_model,\n",
    "    teacher_model=teacher_model,\n",
    "    train_loader=train_loader,\n",
    "    optimizer=optimizer,\n",
    "    device=device,\n",
    "    kd_params=kd_params,\n",
    "    num_epochs=num_epochs,\n",
    "    loss_fn_kd=loss_fn_kd\n",
    ")\n"
   ],
   "id": "cdbc1ae72da89ea1",
   "outputs": [
    {
     "name": "stderr",
     "output_type": "stream",
     "text": [
      "                                                                                     \r"
     ]
    }
   ],
   "execution_count": 21
  },
  {
   "metadata": {
    "ExecuteTime": {
     "end_time": "2025-04-14T11:58:44.083579Z",
     "start_time": "2025-04-14T11:58:41.259407Z"
    }
   },
   "cell_type": "code",
   "source": [
    "# Student accuracy after\n",
    "evaluate(student_model, val_loader, device)"
   ],
   "id": "8f7e1a9d7ee6f344",
   "outputs": [
    {
     "name": "stdout",
     "output_type": "stream",
     "text": [
      "Validation Accuracy: 87.79%, Avg Loss: 0.6563, Time: 2.82s\n"
     ]
    },
    {
     "data": {
      "text/plain": [
       "(87.79, 0.6563015117645263, 2.8176419734954834)"
      ]
     },
     "execution_count": 22,
     "metadata": {},
     "output_type": "execute_result"
    }
   ],
   "execution_count": 22
  },
  {
   "metadata": {},
   "cell_type": "markdown",
   "source": "# Comparison of Model Compression Techniques\n",
   "id": "429b8c7eb5f46d84"
  },
  {
   "metadata": {},
   "cell_type": "markdown",
   "source": "### Load pretrained models",
   "id": "e6c8aa7e299a9884"
  },
  {
   "metadata": {
    "ExecuteTime": {
     "end_time": "2025-04-14T11:58:44.699455Z",
     "start_time": "2025-04-14T11:58:44.087482Z"
    }
   },
   "cell_type": "code",
   "source": [
    "# Use GPU for unquantized models\n",
    "device = torch.device(gpu)\n",
    "\n",
    "base_model_path = \"models/resnet110_baseline_120_mps.pth\"\n",
    "pruned_model_50_path = \"models/pruned_29-30_resnet110_mps.pth\"\n",
    "pruned_model_70_path = \"models/pruned_45-30_resnet110_mps.pth\"\n",
    "base_quantized_model_path = \"models/quantized_resnet110_baseline_120_cpu.pt\"\n",
    "pruned_kd_model_70_path = \"models/pruned_45-30_kd_10_resnet110_mps.pth\"\n",
    "pruned_kd_quantized_model_70_path = \"models/quantized_pruned_45-30_kd_10_resnet110_cpu.pt\"\n",
    "\n",
    "base_model = load_model(teacher_model_path, device=device)\n",
    "pruned_model_50 = load_model(pruned_model_50_path, device=device)\n",
    "pruned_model_70 = load_model(pruned_model_70_path, device=device)\n",
    "pruned_kd_model_70 = load_model(pruned_kd_model_70_path, device=device)\n",
    "\n",
    "device = torch.device(\"cpu\")\n",
    "base_quantized_model_30 = load_quantized_model(base_quantized_model_path)\n",
    "pruned_kd_quantized_model_30 = load_quantized_model(pruned_kd_quantized_model_70_path)\n",
    "\n",
    "results = {}"
   ],
   "id": "2d167485d857a67b",
   "outputs": [],
   "execution_count": 23
  },
  {
   "metadata": {},
   "cell_type": "markdown",
   "source": "### Generate metrics for all models (takes very long, therefore skip until \"Comparison Overview\")",
   "id": "d5fcf7a5c94b3b09"
  },
  {
   "metadata": {
    "ExecuteTime": {
     "end_time": "2025-04-14T12:01:29.524369Z",
     "start_time": "2025-04-14T11:58:44.719243Z"
    }
   },
   "cell_type": "code",
   "source": [
    "# Generate Results for models on gpu\n",
    "device = torch.device(gpu)\n",
    "\n",
    "results[\"Base Model\"] = evaluate_model_all_metrics(base_model, val_loader, device,base_model_path)\n",
    "results[\"Pruned 50%\"] = evaluate_model_all_metrics(pruned_model_50, val_loader, device, pruned_model_50_path)\n",
    "results[\"Pruned 70%\"] = evaluate_model_all_metrics(pruned_model_70, val_loader, device, pruned_model_70_path)\n",
    "results[\"Pruned + KD 70%\"] = evaluate_model_all_metrics(pruned_kd_model_70, val_loader, device, pruned_kd_model_70_path)"
   ],
   "id": "ec6733f3f4b9a276",
   "outputs": [
    {
     "name": "stdout",
     "output_type": "stream",
     "text": [
      "Validation Accuracy: 90.14%, Avg Loss: 0.4974, Time: 4.90s\n",
      "Total number of parameters in the model: 1730714\n",
      "Validation Accuracy: 88.61%, Avg Loss: 0.4838, Time: 4.02s\n",
      "Total number of parameters in the model: 848388\n",
      "Validation Accuracy: 86.49%, Avg Loss: 0.4796, Time: 2.75s\n",
      "Total number of parameters in the model: 509972\n",
      "Validation Accuracy: 86.70%, Avg Loss: 0.7681, Time: 2.82s\n",
      "Total number of parameters in the model: 509972\n"
     ]
    }
   ],
   "execution_count": 24
  },
  {
   "metadata": {
    "ExecuteTime": {
     "end_time": "2025-04-14T12:03:12.435694Z",
     "start_time": "2025-04-14T12:01:29.580099Z"
    }
   },
   "cell_type": "code",
   "source": [
    "# Generate Results for models on cpu\n",
    "device = torch.device(\"cpu\")\n",
    "\n",
    "results[\"Base Quantized\"] = evaluate_model_all_metrics(base_quantized_model_30, val_loader, device, base_quantized_model_path)\n",
    "# As the quantized model is loaded as \"scripted\" (no PyTorch nn.Module),\n",
    "# the model parameters cannot be correctly retrieved. For this purpose, we set it manually\n",
    "results[\"Base Quantized\"][\"parameters\"] = 1730714\n",
    "results[\"Base Quantized\"][\"memory_footprint\"] = estimate_model_memory_footprint_from_bits(1730714, bits=8)\n",
    "\n",
    "results[\"Pruned + KD + Quantized 70%\"] = evaluate_model_all_metrics(pruned_kd_quantized_model_30, val_loader, device, pruned_kd_quantized_model_70_path)\n",
    "# As the quantized model is loaded as \"scripted\" (no PyTorch nn.Module),\n",
    "# the model parameters cannot be correctly retrieved. For this purpose, we set the following manually\n",
    "results[\"Pruned + KD + Quantized 70%\"][\"parameters\"] = 509972\n",
    "results[\"Pruned + KD + Quantized 70%\"][\"memory_footprint\"] = estimate_model_memory_footprint_from_bits(509972, bits=8)"
   ],
   "id": "1f84948253499c3f",
   "outputs": [
    {
     "name": "stdout",
     "output_type": "stream",
     "text": [
      "Validation Accuracy: 90.04%, Avg Loss: 0.5063, Time: 31.79s\n",
      "Total number of parameters in the model: 192\n",
      "Validation Accuracy: 86.70%, Avg Loss: 0.7705, Time: 18.65s\n",
      "Total number of parameters in the model: 104\n"
     ]
    }
   ],
   "execution_count": 25
  },
  {
   "metadata": {
    "ExecuteTime": {
     "end_time": "2025-04-14T12:03:12.482939Z",
     "start_time": "2025-04-14T12:03:12.471074Z"
    }
   },
   "cell_type": "code",
   "source": [
    "# Aggregate results in Data Frame\n",
    "results_table = pd.DataFrame([\n",
    "    {\n",
    "        \"Model\": model_name,\n",
    "        \"Accuracy (%)\": f\"{metrics['accuracy']:.2f}\",\n",
    "        \"Parameters\": f\"{metrics['parameters']:,.0f}\",\n",
    "        \"Inference Time (s)\": f\"{metrics['inference_time']:.4f}\",\n",
    "        \"Memory Footprint (MB)\": f\"{metrics['memory_footprint']:.2f}\",\n",
    "        \"File Size (MB)\": f\"{metrics['file_size']:.2f}\"\n",
    "    }\n",
    "    for model_name, metrics in results.items()\n",
    "])\n",
    "\n",
    "# Display the table\n",
    "results_table = results_table.set_index(\"Model\")\n",
    "display(results_table)\n"
   ],
   "id": "9f5fe8e96af1abf7",
   "outputs": [
    {
     "data": {
      "text/plain": [
       "                            Accuracy (%) Parameters Inference Time (s)  \\\n",
       "Model                                                                    \n",
       "Base Model                         90.14  1,730,714             0.5030   \n",
       "Pruned 50%                         88.61    848,388             0.2891   \n",
       "Pruned 70%                         86.49    509,972             0.3847   \n",
       "Pruned + KD 70%                    86.70    509,972             0.2112   \n",
       "Base Quantized                     90.04  1,730,714             0.3021   \n",
       "Pruned + KD + Quantized 70%        86.70    509,972             0.1794   \n",
       "\n",
       "                            Memory Footprint (MB) File Size (MB)  \n",
       "Model                                                             \n",
       "Base Model                                   6.60           6.92  \n",
       "Pruned 50%                                   3.24           3.54  \n",
       "Pruned 70%                                   1.95           2.24  \n",
       "Pruned + KD 70%                              1.95           2.25  \n",
       "Base Quantized                               1.65           1.77  \n",
       "Pruned + KD + Quantized 70%                  0.49           0.61  "
      ],
      "text/html": [
       "<div>\n",
       "<style scoped>\n",
       "    .dataframe tbody tr th:only-of-type {\n",
       "        vertical-align: middle;\n",
       "    }\n",
       "\n",
       "    .dataframe tbody tr th {\n",
       "        vertical-align: top;\n",
       "    }\n",
       "\n",
       "    .dataframe thead th {\n",
       "        text-align: right;\n",
       "    }\n",
       "</style>\n",
       "<table border=\"1\" class=\"dataframe\">\n",
       "  <thead>\n",
       "    <tr style=\"text-align: right;\">\n",
       "      <th></th>\n",
       "      <th>Accuracy (%)</th>\n",
       "      <th>Parameters</th>\n",
       "      <th>Inference Time (s)</th>\n",
       "      <th>Memory Footprint (MB)</th>\n",
       "      <th>File Size (MB)</th>\n",
       "    </tr>\n",
       "    <tr>\n",
       "      <th>Model</th>\n",
       "      <th></th>\n",
       "      <th></th>\n",
       "      <th></th>\n",
       "      <th></th>\n",
       "      <th></th>\n",
       "    </tr>\n",
       "  </thead>\n",
       "  <tbody>\n",
       "    <tr>\n",
       "      <th>Base Model</th>\n",
       "      <td>90.14</td>\n",
       "      <td>1,730,714</td>\n",
       "      <td>0.5030</td>\n",
       "      <td>6.60</td>\n",
       "      <td>6.92</td>\n",
       "    </tr>\n",
       "    <tr>\n",
       "      <th>Pruned 50%</th>\n",
       "      <td>88.61</td>\n",
       "      <td>848,388</td>\n",
       "      <td>0.2891</td>\n",
       "      <td>3.24</td>\n",
       "      <td>3.54</td>\n",
       "    </tr>\n",
       "    <tr>\n",
       "      <th>Pruned 70%</th>\n",
       "      <td>86.49</td>\n",
       "      <td>509,972</td>\n",
       "      <td>0.3847</td>\n",
       "      <td>1.95</td>\n",
       "      <td>2.24</td>\n",
       "    </tr>\n",
       "    <tr>\n",
       "      <th>Pruned + KD 70%</th>\n",
       "      <td>86.70</td>\n",
       "      <td>509,972</td>\n",
       "      <td>0.2112</td>\n",
       "      <td>1.95</td>\n",
       "      <td>2.25</td>\n",
       "    </tr>\n",
       "    <tr>\n",
       "      <th>Base Quantized</th>\n",
       "      <td>90.04</td>\n",
       "      <td>1,730,714</td>\n",
       "      <td>0.3021</td>\n",
       "      <td>1.65</td>\n",
       "      <td>1.77</td>\n",
       "    </tr>\n",
       "    <tr>\n",
       "      <th>Pruned + KD + Quantized 70%</th>\n",
       "      <td>86.70</td>\n",
       "      <td>509,972</td>\n",
       "      <td>0.1794</td>\n",
       "      <td>0.49</td>\n",
       "      <td>0.61</td>\n",
       "    </tr>\n",
       "  </tbody>\n",
       "</table>\n",
       "</div>"
      ]
     },
     "metadata": {},
     "output_type": "display_data"
    }
   ],
   "execution_count": 26
  },
  {
   "metadata": {
    "ExecuteTime": {
     "end_time": "2025-04-14T12:03:18.815230Z",
     "start_time": "2025-04-14T12:03:18.810179Z"
    }
   },
   "cell_type": "code",
   "source": "results_table.to_csv(\"../model_metrics.csv\")\n",
   "id": "e76d18138e4a7542",
   "outputs": [],
   "execution_count": 29
  },
  {
   "metadata": {},
   "cell_type": "markdown",
   "source": [
    "### Comparison Overview\n",
    "Continue here, if you skipped the metrics generation."
   ],
   "id": "3e6ed08166bc510a"
  },
  {
   "metadata": {
    "ExecuteTime": {
     "end_time": "2025-04-14T12:03:21.786253Z",
     "start_time": "2025-04-14T12:03:21.778289Z"
    }
   },
   "cell_type": "code",
   "source": [
    "results_table = pd.read_csv(\"../model_metrics.csv\", index_col=\"Model\")\n",
    "display(results_table)"
   ],
   "id": "789a995fbdd7f13b",
   "outputs": [
    {
     "data": {
      "text/plain": [
       "                             Accuracy (%) Parameters  Inference Time (s)  \\\n",
       "Model                                                                      \n",
       "Base Model                          90.14  1,730,714              0.6020   \n",
       "Pruned 50%                          88.61    848,388              0.3682   \n",
       "Pruned 70%                          86.49    509,972              0.2894   \n",
       "Pruned + KD 70%                     86.70    509,972              0.2475   \n",
       "Base Quantized                      90.04  1,730,714              0.3042   \n",
       "Pruned + KD + Quantized 70%         86.70    509,972              0.1681   \n",
       "\n",
       "                             Memory Footprint (MB)  File Size (MB)  \n",
       "Model                                                               \n",
       "Base Model                                    6.60            6.92  \n",
       "Pruned 50%                                    3.24            3.54  \n",
       "Pruned 70%                                    1.95            2.24  \n",
       "Pruned + KD 70%                               1.95            2.25  \n",
       "Base Quantized                                1.65            1.77  \n",
       "Pruned + KD + Quantized 70%                   0.49            0.61  "
      ],
      "text/html": [
       "<div>\n",
       "<style scoped>\n",
       "    .dataframe tbody tr th:only-of-type {\n",
       "        vertical-align: middle;\n",
       "    }\n",
       "\n",
       "    .dataframe tbody tr th {\n",
       "        vertical-align: top;\n",
       "    }\n",
       "\n",
       "    .dataframe thead th {\n",
       "        text-align: right;\n",
       "    }\n",
       "</style>\n",
       "<table border=\"1\" class=\"dataframe\">\n",
       "  <thead>\n",
       "    <tr style=\"text-align: right;\">\n",
       "      <th></th>\n",
       "      <th>Accuracy (%)</th>\n",
       "      <th>Parameters</th>\n",
       "      <th>Inference Time (s)</th>\n",
       "      <th>Memory Footprint (MB)</th>\n",
       "      <th>File Size (MB)</th>\n",
       "    </tr>\n",
       "    <tr>\n",
       "      <th>Model</th>\n",
       "      <th></th>\n",
       "      <th></th>\n",
       "      <th></th>\n",
       "      <th></th>\n",
       "      <th></th>\n",
       "    </tr>\n",
       "  </thead>\n",
       "  <tbody>\n",
       "    <tr>\n",
       "      <th>Base Model</th>\n",
       "      <td>90.14</td>\n",
       "      <td>1,730,714</td>\n",
       "      <td>0.6020</td>\n",
       "      <td>6.60</td>\n",
       "      <td>6.92</td>\n",
       "    </tr>\n",
       "    <tr>\n",
       "      <th>Pruned 50%</th>\n",
       "      <td>88.61</td>\n",
       "      <td>848,388</td>\n",
       "      <td>0.3682</td>\n",
       "      <td>3.24</td>\n",
       "      <td>3.54</td>\n",
       "    </tr>\n",
       "    <tr>\n",
       "      <th>Pruned 70%</th>\n",
       "      <td>86.49</td>\n",
       "      <td>509,972</td>\n",
       "      <td>0.2894</td>\n",
       "      <td>1.95</td>\n",
       "      <td>2.24</td>\n",
       "    </tr>\n",
       "    <tr>\n",
       "      <th>Pruned + KD 70%</th>\n",
       "      <td>86.70</td>\n",
       "      <td>509,972</td>\n",
       "      <td>0.2475</td>\n",
       "      <td>1.95</td>\n",
       "      <td>2.25</td>\n",
       "    </tr>\n",
       "    <tr>\n",
       "      <th>Base Quantized</th>\n",
       "      <td>90.04</td>\n",
       "      <td>1,730,714</td>\n",
       "      <td>0.3042</td>\n",
       "      <td>1.65</td>\n",
       "      <td>1.77</td>\n",
       "    </tr>\n",
       "    <tr>\n",
       "      <th>Pruned + KD + Quantized 70%</th>\n",
       "      <td>86.70</td>\n",
       "      <td>509,972</td>\n",
       "      <td>0.1681</td>\n",
       "      <td>0.49</td>\n",
       "      <td>0.61</td>\n",
       "    </tr>\n",
       "  </tbody>\n",
       "</table>\n",
       "</div>"
      ]
     },
     "metadata": {},
     "output_type": "display_data"
    }
   ],
   "execution_count": 30
  },
  {
   "metadata": {
    "ExecuteTime": {
     "end_time": "2025-04-14T12:03:26.300805Z",
     "start_time": "2025-04-14T12:03:26.005590Z"
    }
   },
   "cell_type": "code",
   "source": [
    "# Base model\n",
    "visualize_model_predictions(base_model, val_loader, device=gpu, num_images=8)"
   ],
   "id": "a5686aa75c8cf60a",
   "outputs": [
    {
     "data": {
      "text/plain": [
       "<Figure size 1200x300 with 8 Axes>"
      ],
      "image/png": "[encoded data removed]"
     },
     "metadata": {},
     "output_type": "display_data"
    }
   ],
   "execution_count": 31
  },
  {
   "metadata": {
    "ExecuteTime": {
     "end_time": "2025-04-13T18:29:20.616726Z",
     "start_time": "2025-04-13T18:29:20.351925Z"
    }
   },
   "cell_type": "code",
   "source": [
    "# Pruned models\n",
    "#visualize_model_predictions(pruned_model_50, val_loader, device=gpu, num_images=8)\n",
    "#visualize_model_predictions(pruned_model_70, val_loader, device=gpu, num_images=8)\n",
    "visualize_model_predictions(pruned_kd_model_70, val_loader, device=gpu, num_images=8)"
   ],
   "id": "c006083deab960de",
   "outputs": [
    {
     "data": {
      "text/plain": [
       "<Figure size 1200x300 with 8 Axes>"
      ],
      "image/png": "[encoded data removed]"
     },
     "metadata": {},
     "output_type": "display_data"
    }
   ],
   "execution_count": 23
  },
  {
   "metadata": {
    "ExecuteTime": {
     "end_time": "2025-04-13T18:29:21.816331Z",
     "start_time": "2025-04-13T18:29:21.283286Z"
    }
   },
   "cell_type": "code",
   "source": [
    "# Quantized models\n",
    "#visualize_model_predictions(base_quantized_model_30, val_loader, device=\"cpu\", num_images=8)\n",
    "visualize_model_predictions(pruned_kd_quantized_model_30, val_loader, device=\"cpu\", num_images=8)"
   ],
   "id": "2d28c131198dac7f",
   "outputs": [
    {
     "data": {
      "text/plain": [
       "<Figure size 1200x300 with 8 Axes>"
      ],
      "image/png": "[encoded data removed]"
     },
     "metadata": {},
     "output_type": "display_data"
    }
   ],
   "execution_count": 24
  },
  {
   "metadata": {},
   "cell_type": "code",
   "source": "",
   "id": "137926116fd13895",
   "outputs": [],
   "execution_count": null
  }
 ],
 "metadata": {
  "kernelspec": {
   "display_name": "Python 3",
   "language": "python",
   "name": "python3"
  },
  "language_info": {
   "codemirror_mode": {
    "name": "ipython",
    "version": 2
   },
   "file_extension": ".py",
   "mimetype": "text/x-python",
   "name": "python",
   "nbconvert_exporter": "python",
   "pygments_lexer": "ipython2",
   "version": "2.7.6"
  }
 },
 "nbformat": 4,
 "nbformat_minor": 5
}
