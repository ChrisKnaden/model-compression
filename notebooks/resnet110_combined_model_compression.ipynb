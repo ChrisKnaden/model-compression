{
 "cells": [
  {
   "metadata": {},
   "cell_type": "markdown",
   "source": [
    "# Pipeline for Multiple Model Compression Techniques\n",
    "This pipeline will demonstrate pruning, quantization, knowledge distillation and their combination. At the end there will be an evaluation of different models."
   ],
   "id": "cd874c09e343260a"
  },
  {
   "metadata": {},
   "cell_type": "markdown",
   "source": "## Imports",
   "id": "c075a17abf2d43ff"
  },
  {
   "cell_type": "code",
   "id": "initial_id",
   "metadata": {
    "collapsed": true,
    "ExecuteTime": {
     "end_time": "2025-04-27T19:53:14.363073Z",
     "start_time": "2025-04-27T19:53:12.834428Z"
    }
   },
   "source": [
    "import torch\n",
    "from torch import nn\n",
    "import torch_pruning as tp\n",
    "import pandas as pd\n",
    "from src.model import ResNet, BasicBlock, resnet110\n",
    "from src.utils import load_model, save_model, iterative_pruner, load_quantized_model\n",
    "from src.data_loader import get_cifar10_loader\n",
    "from src.train import train_model, train_model_kd, loss_fn_kd\n",
    "from src.evaluate import evaluate, measure_inference_time, count_total_parameters, evaluate_model_all_metrics, estimate_model_memory_footprint_from_bits, visualize_model_predictions\n"
   ],
   "outputs": [],
   "execution_count": 1
  },
  {
   "metadata": {},
   "cell_type": "markdown",
   "source": "## Base Parameters",
   "id": "fba38a3ea3f5aa91"
  },
  {
   "metadata": {
    "ExecuteTime": {
     "end_time": "2025-04-27T19:53:16.136326Z",
     "start_time": "2025-04-27T19:53:16.133573Z"
    }
   },
   "cell_type": "code",
   "source": [
    "gpu = \"mps\"\n",
    "device = torch.device(gpu)\n",
    "\n",
    "model_path = \"models/resnet110_baseline_120_mps.pth\"\n",
    "\n",
    "batch_size = 128\n"
   ],
   "id": "e03025e7312c101c",
   "outputs": [],
   "execution_count": 2
  },
  {
   "metadata": {},
   "cell_type": "markdown",
   "source": "## Pruning",
   "id": "9b8d9635e0a848de"
  },
  {
   "metadata": {
    "ExecuteTime": {
     "end_time": "2025-04-27T19:53:18.859098Z",
     "start_time": "2025-04-27T19:53:18.687288Z"
    }
   },
   "cell_type": "code",
   "source": [
    "# load base model\n",
    "model = load_model(model_path, device)\n",
    "pruned_model = model\n",
    "\n",
    "count_total_parameters(model)\n",
    "\n",
    "# Channel sparsity / Pruning ratio\n",
    "# ch_sparsity = 0.15 -> 1228878 ca. 30%\n",
    "# ch_sparsity = 0.29 -> 848388  ca. 50%\n",
    "# ch_sparsity = 0.45 -> 509972  ca. 70%\n",
    "# ch_sparsity = 0.95 -> 6765    ca. 0.39%\n",
    "\n",
    "ch_sparsity = 0.45\n",
    "iterative_pruning_steps = 5"
   ],
   "id": "c95bb761d011601e",
   "outputs": [
    {
     "name": "stdout",
     "output_type": "stream",
     "text": [
      "Total number of parameters in the model: 1730714\n"
     ]
    }
   ],
   "execution_count": 3
  },
  {
   "metadata": {
    "ExecuteTime": {
     "end_time": "2025-04-27T19:53:21.225208Z",
     "start_time": "2025-04-27T19:53:20.461860Z"
    }
   },
   "cell_type": "code",
   "source": [
    "# For pruning the model has to be on the cpu\n",
    "pruned_model.to(\"cpu\")\n",
    "example_inputs = torch.randn(1, 3, 32, 32)\n",
    "\n",
    "\n",
    "\n",
    "# Importance Criterion\n",
    "imp = tp.importance.TaylorImportance()\n",
    "#imp = tp.importance.HessianImportance()\n",
    "# Parameter for pruner\n",
    "calculate_gradient = True\n",
    "\n",
    "# Initialization of pruner\n",
    "pruner = tp.pruner.MagnitudePruner(\n",
    "    pruned_model,\n",
    "    example_inputs,\n",
    "    importance=imp,\n",
    "    iterative_steps=iterative_pruning_steps,\n",
    "    ch_sparsity=ch_sparsity,\n",
    "    ignored_layers=[]\n",
    ")\n",
    "\n",
    "# Actual pruning\n",
    "iterative_pruner(pruner, calculate_gradient, iterative_pruning_steps)\n"
   ],
   "id": "dfdbf22fe9209e13",
   "outputs": [
    {
     "name": "stderr",
     "output_type": "stream",
     "text": [
      "/Users/christophknaden/git/model-compression/.venv/lib/python3.11/site-packages/torch_pruning/pruner/algorithms/base_pruner.py:87: UserWarning: ch_sparsity is deprecated in v1.3.0. Please use pruning_ratio.\n",
      "  warnings.warn(\n"
     ]
    }
   ],
   "execution_count": 4
  },
  {
   "metadata": {
    "ExecuteTime": {
     "end_time": "2025-04-27T19:54:58.364143Z",
     "start_time": "2025-04-27T19:54:58.359708Z"
    }
   },
   "cell_type": "code",
   "source": "count_total_parameters(pruned_model)",
   "id": "75b0d634b11bb47d",
   "outputs": [
    {
     "name": "stdout",
     "output_type": "stream",
     "text": [
      "Total number of parameters in the model: 509972\n"
     ]
    },
    {
     "data": {
      "text/plain": [
       "509972"
      ]
     },
     "execution_count": 12,
     "metadata": {},
     "output_type": "execute_result"
    }
   ],
   "execution_count": 12
  },
  {
   "metadata": {},
   "cell_type": "markdown",
   "source": "## Quantization",
   "id": "f61e89ddc032b239"
  },
  {
   "metadata": {
    "ExecuteTime": {
     "end_time": "2025-04-27T19:53:24.631751Z",
     "start_time": "2025-04-27T19:53:24.629469Z"
    }
   },
   "cell_type": "code",
   "source": [
    "# Quantization requires to be made on the cpu\n",
    "device = torch.device(\"cpu\")\n",
    "\n",
    "# Set the quantization backend to 'qnnpack', which is optimized for ARM CPUs (e.g., mobile devices)\n",
    "# This enables efficient int8 operations during inference using PyTorch Mobile\n",
    "backend = 'qnnpack'\n"
   ],
   "id": "e4006b44aa119d07",
   "outputs": [],
   "execution_count": 6
  },
  {
   "metadata": {
    "ExecuteTime": {
     "end_time": "2025-04-27T19:53:26.019287Z",
     "start_time": "2025-04-27T19:53:24.786906Z"
    }
   },
   "cell_type": "code",
   "source": [
    "# Load base model again\n",
    "model = load_model(model_path, device=device)\n",
    "\n",
    "# Load data\n",
    "val_loader = get_cifar10_loader('val', batch_size=batch_size)\n",
    "val_loader_subset = get_cifar10_loader('val', batch_size=batch_size, subset_size=1000)"
   ],
   "id": "70b6d6f1da1888a4",
   "outputs": [],
   "execution_count": 7
  },
  {
   "metadata": {
    "ExecuteTime": {
     "end_time": "2025-04-27T19:53:32.909049Z",
     "start_time": "2025-04-27T19:53:26.023897Z"
    }
   },
   "cell_type": "code",
   "source": [
    "model.to(device=device)\n",
    "\n",
    "# Set the backend\n",
    "torch.backends.quantized.engine = backend\n",
    "\n",
    "model_fp32 = model\n",
    "model_fp32.eval()\n",
    "\n",
    "# Fuse modules (e.g., Conv+BN+ReLU) for better quantization accuracy\n",
    "model_fp32.fuse_model()\n",
    "\n",
    "# Set the quantization config for the model\n",
    "model_fp32.qconfig = torch.quantization.get_default_qconfig(backend)\n",
    "\n",
    "# Insert observers for calibration\n",
    "model_fp32_prepared = torch.quantization.prepare(model_fp32, inplace = False)\n",
    "\n",
    "# Run the model to collect activation stats for quantization\n",
    "evaluate(model_fp32_prepared, val_loader_subset, device)\n",
    "\n",
    "# Convert the calibrated model to quantized version\n",
    "model_quantized = torch.quantization.convert(model_fp32_prepared)\n",
    "\n",
    "# Custom function to quantize model\n",
    "# model_quantized = quantize_model(model, val_loader_subset, device, backend=backend)"
   ],
   "id": "a22687c0342bfb7b",
   "outputs": [
    {
     "name": "stdout",
     "output_type": "stream",
     "text": [
      "Validation Accuracy: 90.30%, Avg Loss: 0.4236, Time: 6.37s\n"
     ]
    }
   ],
   "execution_count": 8
  },
  {
   "metadata": {
    "ExecuteTime": {
     "end_time": "2025-04-27T19:27:52.587040Z",
     "start_time": "2025-04-27T19:27:25.185382Z"
    }
   },
   "cell_type": "code",
   "source": "evaluate(model_quantized, val_loader, device)",
   "id": "70a239bc2a432587",
   "outputs": [
    {
     "name": "stdout",
     "output_type": "stream",
     "text": [
      "Validation Accuracy: 90.63%, Avg Loss: 0.4607, Time: 27.40s\n"
     ]
    },
    {
     "data": {
      "text/plain": [
       "(90.63, 0.46072042412757874, 27.396944999694824)"
      ]
     },
     "execution_count": 9,
     "metadata": {},
     "output_type": "execute_result"
    }
   ],
   "execution_count": 9
  },
  {
   "metadata": {
    "ExecuteTime": {
     "end_time": "2025-04-27T19:29:09.991858Z",
     "start_time": "2025-04-27T19:27:52.600352Z"
    }
   },
   "cell_type": "code",
   "source": [
    "# Measure and compare inference time for float and quantized models\n",
    "time_float = measure_inference_time(model, val_loader, device=device)\n",
    "time_quant = measure_inference_time(model_quantized, val_loader, device=device)\n",
    "\n",
    "print(f\"Average inference time per batch (float model): {time_float:.4f} seconds\")\n",
    "print(f\"Average inference time per batch (quantized model): {time_quant:.4f} seconds\")\n"
   ],
   "id": "735a2b36051a0319",
   "outputs": [
    {
     "name": "stdout",
     "output_type": "stream",
     "text": [
      "Average inference time per batch (float model): 0.4294 seconds\n",
      "Average inference time per batch (quantized model): 0.2898 seconds\n"
     ]
    }
   ],
   "execution_count": 10
  },
  {
   "metadata": {},
   "cell_type": "markdown",
   "source": "## Knowledge Distillation",
   "id": "4ef0e1ef416c9051"
  },
  {
   "metadata": {
    "ExecuteTime": {
     "end_time": "2025-04-27T19:53:32.921882Z",
     "start_time": "2025-04-27T19:53:32.920184Z"
    }
   },
   "cell_type": "code",
   "source": [
    "# Set device to GPU for faster training\n",
    "device = torch.device(gpu)\n",
    "teacher_model_path = \"models/resnet110_baseline_120_mps.pth\"\n",
    "student_model_path = \"models/pruned_45-30_resnet110_mps.pth\"\n",
    "\n",
    "learning_rate = 0.001\n",
    "num_epochs = 1\n",
    "kd_alpha = 0.7\n",
    "kd_temperature = 4.0\n"
   ],
   "id": "24a011c325679060",
   "outputs": [],
   "execution_count": 9
  },
  {
   "metadata": {
    "ExecuteTime": {
     "end_time": "2025-04-27T19:53:34.579105Z",
     "start_time": "2025-04-27T19:53:32.933028Z"
    }
   },
   "cell_type": "code",
   "source": [
    "# Load pretrained models\n",
    "teacher_model = load_model(teacher_model_path, device=device)\n",
    "student_model = load_model(student_model_path, device=device)\n",
    "\n",
    "# Define optimizer and criterion for training\n",
    "optimizer = torch.optim.Adam(student_model.parameters(), lr=learning_rate)\n",
    "criterion = nn.CrossEntropyLoss()\n",
    "\n",
    "# Load data\n",
    "train_loader = get_cifar10_loader('train', batch_size=batch_size)\n",
    "val_loader = get_cifar10_loader('val', batch_size=batch_size)\n"
   ],
   "id": "f777e36d1aef5718",
   "outputs": [],
   "execution_count": 10
  },
  {
   "metadata": {
    "ExecuteTime": {
     "end_time": "2025-04-27T19:29:14.822915Z",
     "start_time": "2025-04-27T19:29:11.776429Z"
    }
   },
   "cell_type": "code",
   "source": [
    "# Student accuracy before\n",
    "evaluate(student_model, val_loader, device)"
   ],
   "id": "ce45765e1039d49a",
   "outputs": [
    {
     "name": "stdout",
     "output_type": "stream",
     "text": [
      "Validation Accuracy: 87.49%, Avg Loss: 0.4480, Time: 3.04s\n"
     ]
    },
    {
     "data": {
      "text/plain": [
       "(87.49, 0.4479996481895447, 3.040414810180664)"
      ]
     },
     "execution_count": 13,
     "metadata": {},
     "output_type": "execute_result"
    }
   ],
   "execution_count": 13
  },
  {
   "metadata": {
    "ExecuteTime": {
     "end_time": "2025-04-27T19:54:52.645763Z",
     "start_time": "2025-04-27T19:53:34.593207Z"
    }
   },
   "cell_type": "code",
   "source": [
    "# Actual Knowledge Distillation\n",
    "train_model_kd(\n",
    "    student_model=student_model,\n",
    "    teacher_model=teacher_model,\n",
    "    train_loader=train_loader,\n",
    "    optimizer=optimizer,\n",
    "    device=device,\n",
    "    num_epochs=num_epochs,\n",
    "    temperature=kd_temperature,\n",
    "    alpha=kd_alpha,\n",
    ")\n"
   ],
   "id": "cdbc1ae72da89ea1",
   "outputs": [
    {
     "name": "stderr",
     "output_type": "stream",
     "text": [
      "                                                                                     \r"
     ]
    }
   ],
   "execution_count": 11
  },
  {
   "metadata": {
    "ExecuteTime": {
     "end_time": "2025-04-27T19:55:09.841308Z",
     "start_time": "2025-04-27T19:55:07.060415Z"
    }
   },
   "cell_type": "code",
   "source": [
    "# Student accuracy after\n",
    "evaluate(student_model, val_loader, device)"
   ],
   "id": "8f7e1a9d7ee6f344",
   "outputs": [
    {
     "name": "stdout",
     "output_type": "stream",
     "text": [
      "Validation Accuracy: 87.75%, Avg Loss: 0.6149, Time: 2.77s\n"
     ]
    },
    {
     "data": {
      "text/plain": [
       "(87.75, 0.6149026525497436, 2.772475004196167)"
      ]
     },
     "execution_count": 13,
     "metadata": {},
     "output_type": "execute_result"
    }
   ],
   "execution_count": 13
  },
  {
   "metadata": {},
   "cell_type": "markdown",
   "source": "# Comparison of Model Compression Techniques\n",
   "id": "429b8c7eb5f46d84"
  },
  {
   "metadata": {},
   "cell_type": "markdown",
   "source": "### Load pretrained models",
   "id": "e6c8aa7e299a9884"
  },
  {
   "metadata": {
    "ExecuteTime": {
     "end_time": "2025-04-27T19:31:21.813902Z",
     "start_time": "2025-04-27T19:31:21.116686Z"
    }
   },
   "cell_type": "code",
   "source": [
    "# Use GPU for unquantized models\n",
    "device = torch.device(gpu)\n",
    "\n",
    "base_model_path = \"models/resnet110_baseline_120_mps.pth\"\n",
    "pruned_model_50_path = \"models/pruned_29-30_resnet110_mps.pth\"\n",
    "pruned_model_70_path = \"models/pruned_45-30_resnet110_mps.pth\"\n",
    "base_quantized_model_path = \"models/quantized_resnet110_baseline_120_cpu.pt\"\n",
    "pruned_kd_model_70_path = \"models/pruned_45-30_kd_10_resnet110_mps.pth\"\n",
    "pruned_kd_quantized_model_70_path = \"models/quantized_pruned_45-30_kd_10_resnet110_cpu.pt\"\n",
    "\n",
    "base_model = load_model(teacher_model_path, device=device)\n",
    "pruned_model_50 = load_model(pruned_model_50_path, device=device)\n",
    "pruned_model_70 = load_model(pruned_model_70_path, device=device)\n",
    "pruned_kd_model_70 = load_model(pruned_kd_model_70_path, device=device)\n",
    "\n",
    "device = torch.device(\"cpu\")\n",
    "base_quantized_model_30 = load_quantized_model(base_quantized_model_path)\n",
    "pruned_kd_quantized_model_30 = load_quantized_model(pruned_kd_quantized_model_70_path)\n",
    "\n",
    "results = {}"
   ],
   "id": "2d167485d857a67b",
   "outputs": [],
   "execution_count": 17
  },
  {
   "metadata": {},
   "cell_type": "markdown",
   "source": "### Generate metrics for all models (takes very long, therefore skip until \"Comparison Overview\")",
   "id": "d5fcf7a5c94b3b09"
  },
  {
   "metadata": {
    "ExecuteTime": {
     "end_time": "2025-04-27T19:33:43.420298Z",
     "start_time": "2025-04-27T19:31:25.804899Z"
    }
   },
   "cell_type": "code",
   "source": [
    "# Generate Results for models on gpu\n",
    "device = torch.device(gpu)\n",
    "\n",
    "results[\"Base Model\"] = evaluate_model_all_metrics(base_model, val_loader, device,base_model_path)\n",
    "results[\"Pruned 50%\"] = evaluate_model_all_metrics(pruned_model_50, val_loader, device, pruned_model_50_path)\n",
    "results[\"Pruned 70%\"] = evaluate_model_all_metrics(pruned_model_70, val_loader, device, pruned_model_70_path)\n",
    "results[\"Pruned + KD 70%\"] = evaluate_model_all_metrics(pruned_kd_model_70, val_loader, device, pruned_kd_model_70_path)"
   ],
   "id": "ec6733f3f4b9a276",
   "outputs": [
    {
     "name": "stdout",
     "output_type": "stream",
     "text": [
      "Validation Accuracy: 90.53%, Avg Loss: 0.4601, Time: 4.75s\n",
      "Total number of parameters in the model: 1730714\n",
      "Validation Accuracy: 87.61%, Avg Loss: 0.5174, Time: 3.41s\n",
      "Total number of parameters in the model: 848388\n",
      "Validation Accuracy: 87.49%, Avg Loss: 0.4480, Time: 2.79s\n",
      "Total number of parameters in the model: 509972\n",
      "Validation Accuracy: 88.47%, Avg Loss: 0.6132, Time: 2.75s\n",
      "Total number of parameters in the model: 509972\n"
     ]
    }
   ],
   "execution_count": 18
  },
  {
   "metadata": {
    "ExecuteTime": {
     "end_time": "2025-04-27T19:35:22.311630Z",
     "start_time": "2025-04-27T19:33:43.490718Z"
    }
   },
   "cell_type": "code",
   "source": [
    "# Generate Results for models on cpu\n",
    "device = torch.device(\"cpu\")\n",
    "\n",
    "results[\"Base Quantized\"] = evaluate_model_all_metrics(base_quantized_model_30, val_loader, device, base_quantized_model_path)\n",
    "# As the quantized model is loaded as \"scripted\" (no PyTorch nn.Module),\n",
    "# the model parameters cannot be correctly retrieved. For this purpose, we set it manually\n",
    "results[\"Base Quantized\"][\"parameters\"] = 1730714\n",
    "results[\"Base Quantized\"][\"memory_footprint\"] = estimate_model_memory_footprint_from_bits(1730714, bits=8)\n",
    "\n",
    "results[\"Pruned + KD + Quantized 70%\"] = evaluate_model_all_metrics(pruned_kd_quantized_model_30, val_loader, device, pruned_kd_quantized_model_70_path)\n",
    "# As the quantized model is loaded as \"scripted\" (no PyTorch nn.Module),\n",
    "# the model parameters cannot be correctly retrieved. For this purpose, we set the following manually\n",
    "results[\"Pruned + KD + Quantized 70%\"][\"parameters\"] = 509972\n",
    "results[\"Pruned + KD + Quantized 70%\"][\"memory_footprint\"] = estimate_model_memory_footprint_from_bits(509972, bits=8)"
   ],
   "id": "1f84948253499c3f",
   "outputs": [
    {
     "name": "stdout",
     "output_type": "stream",
     "text": [
      "Validation Accuracy: 90.63%, Avg Loss: 0.4607, Time: 30.36s\n",
      "Total number of parameters in the model: 192\n",
      "Validation Accuracy: 88.38%, Avg Loss: 0.6145, Time: 18.03s\n",
      "Total number of parameters in the model: 104\n"
     ]
    }
   ],
   "execution_count": 19
  },
  {
   "metadata": {
    "ExecuteTime": {
     "end_time": "2025-04-27T19:35:22.366841Z",
     "start_time": "2025-04-27T19:35:22.347460Z"
    }
   },
   "cell_type": "code",
   "source": [
    "# Aggregate results in Data Frame\n",
    "results_table = pd.DataFrame([\n",
    "    {\n",
    "        \"Model\": model_name,\n",
    "        \"Accuracy (%)\": f\"{metrics['accuracy']:.2f}\",\n",
    "        \"Parameters\": f\"{metrics['parameters']:,.0f}\",\n",
    "        \"Inference Time (s)\": f\"{metrics['inference_time']:.4f}\",\n",
    "        \"Memory Footprint (MB)\": f\"{metrics['memory_footprint']:.2f}\",\n",
    "        \"File Size (MB)\": f\"{metrics['file_size']:.2f}\"\n",
    "    }\n",
    "    for model_name, metrics in results.items()\n",
    "])\n",
    "\n",
    "# Display the table\n",
    "results_table = results_table.set_index(\"Model\")\n",
    "display(results_table)\n"
   ],
   "id": "9f5fe8e96af1abf7",
   "outputs": [
    {
     "data": {
      "text/plain": [
       "                            Accuracy (%) Parameters Inference Time (s)  \\\n",
       "Model                                                                    \n",
       "Base Model                         90.53  1,730,714             0.4388   \n",
       "Pruned 50%                         87.61    848,388             0.2489   \n",
       "Pruned 70%                         87.49    509,972             0.2101   \n",
       "Pruned + KD 70%                    88.47    509,972             0.2370   \n",
       "Base Quantized                     90.63  1,730,714             0.2908   \n",
       "Pruned + KD + Quantized 70%        88.38    509,972             0.1719   \n",
       "\n",
       "                            Memory Footprint (MB) File Size (MB)  \n",
       "Model                                                             \n",
       "Base Model                                   6.60           6.94  \n",
       "Pruned 50%                                   3.24           3.57  \n",
       "Pruned 70%                                   1.95           2.26  \n",
       "Pruned + KD 70%                              1.95           2.27  \n",
       "Base Quantized                               1.65           1.78  \n",
       "Pruned + KD + Quantized 70%                  0.49           0.62  "
      ],
      "text/html": [
       "<div>\n",
       "<style scoped>\n",
       "    .dataframe tbody tr th:only-of-type {\n",
       "        vertical-align: middle;\n",
       "    }\n",
       "\n",
       "    .dataframe tbody tr th {\n",
       "        vertical-align: top;\n",
       "    }\n",
       "\n",
       "    .dataframe thead th {\n",
       "        text-align: right;\n",
       "    }\n",
       "</style>\n",
       "<table border=\"1\" class=\"dataframe\">\n",
       "  <thead>\n",
       "    <tr style=\"text-align: right;\">\n",
       "      <th></th>\n",
       "      <th>Accuracy (%)</th>\n",
       "      <th>Parameters</th>\n",
       "      <th>Inference Time (s)</th>\n",
       "      <th>Memory Footprint (MB)</th>\n",
       "      <th>File Size (MB)</th>\n",
       "    </tr>\n",
       "    <tr>\n",
       "      <th>Model</th>\n",
       "      <th></th>\n",
       "      <th></th>\n",
       "      <th></th>\n",
       "      <th></th>\n",
       "      <th></th>\n",
       "    </tr>\n",
       "  </thead>\n",
       "  <tbody>\n",
       "    <tr>\n",
       "      <th>Base Model</th>\n",
       "      <td>90.53</td>\n",
       "      <td>1,730,714</td>\n",
       "      <td>0.4388</td>\n",
       "      <td>6.60</td>\n",
       "      <td>6.94</td>\n",
       "    </tr>\n",
       "    <tr>\n",
       "      <th>Pruned 50%</th>\n",
       "      <td>87.61</td>\n",
       "      <td>848,388</td>\n",
       "      <td>0.2489</td>\n",
       "      <td>3.24</td>\n",
       "      <td>3.57</td>\n",
       "    </tr>\n",
       "    <tr>\n",
       "      <th>Pruned 70%</th>\n",
       "      <td>87.49</td>\n",
       "      <td>509,972</td>\n",
       "      <td>0.2101</td>\n",
       "      <td>1.95</td>\n",
       "      <td>2.26</td>\n",
       "    </tr>\n",
       "    <tr>\n",
       "      <th>Pruned + KD 70%</th>\n",
       "      <td>88.47</td>\n",
       "      <td>509,972</td>\n",
       "      <td>0.2370</td>\n",
       "      <td>1.95</td>\n",
       "      <td>2.27</td>\n",
       "    </tr>\n",
       "    <tr>\n",
       "      <th>Base Quantized</th>\n",
       "      <td>90.63</td>\n",
       "      <td>1,730,714</td>\n",
       "      <td>0.2908</td>\n",
       "      <td>1.65</td>\n",
       "      <td>1.78</td>\n",
       "    </tr>\n",
       "    <tr>\n",
       "      <th>Pruned + KD + Quantized 70%</th>\n",
       "      <td>88.38</td>\n",
       "      <td>509,972</td>\n",
       "      <td>0.1719</td>\n",
       "      <td>0.49</td>\n",
       "      <td>0.62</td>\n",
       "    </tr>\n",
       "  </tbody>\n",
       "</table>\n",
       "</div>"
      ]
     },
     "metadata": {},
     "output_type": "display_data"
    }
   ],
   "execution_count": 20
  },
  {
   "metadata": {
    "ExecuteTime": {
     "end_time": "2025-04-27T19:35:22.402822Z",
     "start_time": "2025-04-27T19:35:22.397254Z"
    }
   },
   "cell_type": "code",
   "source": "results_table.to_csv(\"../model_metrics.csv\")\n",
   "id": "e76d18138e4a7542",
   "outputs": [],
   "execution_count": 21
  },
  {
   "metadata": {},
   "cell_type": "markdown",
   "source": [
    "### Comparison Overview\n",
    "Continue here, if you skipped the metrics generation."
   ],
   "id": "3e6ed08166bc510a"
  },
  {
   "metadata": {
    "ExecuteTime": {
     "end_time": "2025-04-27T19:35:22.464406Z",
     "start_time": "2025-04-27T19:35:22.453935Z"
    }
   },
   "cell_type": "code",
   "source": [
    "results_table = pd.read_csv(\"../model_metrics.csv\", index_col=\"Model\")\n",
    "display(results_table)"
   ],
   "id": "789a995fbdd7f13b",
   "outputs": [
    {
     "data": {
      "text/plain": [
       "                             Accuracy (%) Parameters  Inference Time (s)  \\\n",
       "Model                                                                      \n",
       "Base Model                          90.53  1,730,714              0.4388   \n",
       "Pruned 50%                          87.61    848,388              0.2489   \n",
       "Pruned 70%                          87.49    509,972              0.2101   \n",
       "Pruned + KD 70%                     88.47    509,972              0.2370   \n",
       "Base Quantized                      90.63  1,730,714              0.2908   \n",
       "Pruned + KD + Quantized 70%         88.38    509,972              0.1719   \n",
       "\n",
       "                             Memory Footprint (MB)  File Size (MB)  \n",
       "Model                                                               \n",
       "Base Model                                    6.60            6.94  \n",
       "Pruned 50%                                    3.24            3.57  \n",
       "Pruned 70%                                    1.95            2.26  \n",
       "Pruned + KD 70%                               1.95            2.27  \n",
       "Base Quantized                                1.65            1.78  \n",
       "Pruned + KD + Quantized 70%                   0.49            0.62  "
      ],
      "text/html": [
       "<div>\n",
       "<style scoped>\n",
       "    .dataframe tbody tr th:only-of-type {\n",
       "        vertical-align: middle;\n",
       "    }\n",
       "\n",
       "    .dataframe tbody tr th {\n",
       "        vertical-align: top;\n",
       "    }\n",
       "\n",
       "    .dataframe thead th {\n",
       "        text-align: right;\n",
       "    }\n",
       "</style>\n",
       "<table border=\"1\" class=\"dataframe\">\n",
       "  <thead>\n",
       "    <tr style=\"text-align: right;\">\n",
       "      <th></th>\n",
       "      <th>Accuracy (%)</th>\n",
       "      <th>Parameters</th>\n",
       "      <th>Inference Time (s)</th>\n",
       "      <th>Memory Footprint (MB)</th>\n",
       "      <th>File Size (MB)</th>\n",
       "    </tr>\n",
       "    <tr>\n",
       "      <th>Model</th>\n",
       "      <th></th>\n",
       "      <th></th>\n",
       "      <th></th>\n",
       "      <th></th>\n",
       "      <th></th>\n",
       "    </tr>\n",
       "  </thead>\n",
       "  <tbody>\n",
       "    <tr>\n",
       "      <th>Base Model</th>\n",
       "      <td>90.53</td>\n",
       "      <td>1,730,714</td>\n",
       "      <td>0.4388</td>\n",
       "      <td>6.60</td>\n",
       "      <td>6.94</td>\n",
       "    </tr>\n",
       "    <tr>\n",
       "      <th>Pruned 50%</th>\n",
       "      <td>87.61</td>\n",
       "      <td>848,388</td>\n",
       "      <td>0.2489</td>\n",
       "      <td>3.24</td>\n",
       "      <td>3.57</td>\n",
       "    </tr>\n",
       "    <tr>\n",
       "      <th>Pruned 70%</th>\n",
       "      <td>87.49</td>\n",
       "      <td>509,972</td>\n",
       "      <td>0.2101</td>\n",
       "      <td>1.95</td>\n",
       "      <td>2.26</td>\n",
       "    </tr>\n",
       "    <tr>\n",
       "      <th>Pruned + KD 70%</th>\n",
       "      <td>88.47</td>\n",
       "      <td>509,972</td>\n",
       "      <td>0.2370</td>\n",
       "      <td>1.95</td>\n",
       "      <td>2.27</td>\n",
       "    </tr>\n",
       "    <tr>\n",
       "      <th>Base Quantized</th>\n",
       "      <td>90.63</td>\n",
       "      <td>1,730,714</td>\n",
       "      <td>0.2908</td>\n",
       "      <td>1.65</td>\n",
       "      <td>1.78</td>\n",
       "    </tr>\n",
       "    <tr>\n",
       "      <th>Pruned + KD + Quantized 70%</th>\n",
       "      <td>88.38</td>\n",
       "      <td>509,972</td>\n",
       "      <td>0.1719</td>\n",
       "      <td>0.49</td>\n",
       "      <td>0.62</td>\n",
       "    </tr>\n",
       "  </tbody>\n",
       "</table>\n",
       "</div>"
      ]
     },
     "metadata": {},
     "output_type": "display_data"
    }
   ],
   "execution_count": 22
  },
  {
   "metadata": {
    "ExecuteTime": {
     "end_time": "2025-04-27T19:35:23.325828Z",
     "start_time": "2025-04-27T19:35:22.542155Z"
    }
   },
   "cell_type": "code",
   "source": [
    "# Base model\n",
    "visualize_model_predictions(base_model, val_loader, device=gpu, num_images=8)"
   ],
   "id": "a5686aa75c8cf60a",
   "outputs": [
    {
     "data": {
      "text/plain": [
       "<Figure size 1200x300 with 8 Axes>"
      ],
      "image/png": "[encoded data removed]"
     },
     "metadata": {},
     "output_type": "display_data"
    }
   ],
   "execution_count": 23
  },
  {
   "metadata": {
    "ExecuteTime": {
     "end_time": "2025-04-27T19:35:23.603270Z",
     "start_time": "2025-04-27T19:35:23.350985Z"
    }
   },
   "cell_type": "code",
   "source": [
    "# Pruned models\n",
    "#visualize_model_predictions(pruned_model_50, val_loader, device=gpu, num_images=8)\n",
    "#visualize_model_predictions(pruned_model_70, val_loader, device=gpu, num_images=8)\n",
    "visualize_model_predictions(pruned_kd_model_70, val_loader, device=gpu, num_images=8)"
   ],
   "id": "c006083deab960de",
   "outputs": [
    {
     "data": {
      "text/plain": [
       "<Figure size 1200x300 with 8 Axes>"
      ],
      "image/png": "[encoded data removed]"
     },
     "metadata": {},
     "output_type": "display_data"
    }
   ],
   "execution_count": 24
  },
  {
   "metadata": {
    "ExecuteTime": {
     "end_time": "2025-04-27T19:35:24.129692Z",
     "start_time": "2025-04-27T19:35:23.625560Z"
    }
   },
   "cell_type": "code",
   "source": [
    "# Quantized models\n",
    "#visualize_model_predictions(base_quantized_model_30, val_loader, device=\"cpu\", num_images=8)\n",
    "visualize_model_predictions(pruned_kd_quantized_model_30, val_loader, device=\"cpu\", num_images=8)"
   ],
   "id": "2d28c131198dac7f",
   "outputs": [
    {
     "data": {
      "text/plain": [
       "<Figure size 1200x300 with 8 Axes>"
      ],
      "image/png": "[encoded data removed]"
     },
     "metadata": {},
     "output_type": "display_data"
    }
   ],
   "execution_count": 25
  },
  {
   "metadata": {},
   "cell_type": "code",
   "source": "",
   "id": "137926116fd13895",
   "outputs": [],
   "execution_count": null
  }
 ],
 "metadata": {
  "kernelspec": {
   "display_name": "Python 3",
   "language": "python",
   "name": "python3"
  },
  "language_info": {
   "codemirror_mode": {
    "name": "ipython",
    "version": 2
   },
   "file_extension": ".py",
   "mimetype": "text/x-python",
   "name": "python",
   "nbconvert_exporter": "python",
   "pygments_lexer": "ipython2",
   "version": "2.7.6"
  }
 },
 "nbformat": 4,
 "nbformat_minor": 5
}
