{
 "cells": [
  {
   "metadata": {},
   "cell_type": "markdown",
   "source": [
    "# POC QAT for ResNet110\n",
    "This is just proof of concept implementation of Quantization Aware Training (QAT). As it trained really slow (25 min. per Epoch), I did not further investigate it."
   ],
   "id": "c14528c1cac4f38"
  },
  {
   "metadata": {},
   "cell_type": "markdown",
   "source": "## Imports",
   "id": "c95142bfcd940518"
  },
  {
   "metadata": {},
   "cell_type": "code",
   "outputs": [],
   "execution_count": null,
   "source": [
    "from src.evaluate import evaluate, count_total_parameters\n",
    "from src.data_loader import get_cifar10_loader\n",
    "from src.utils import load_model\n",
    "import torch\n",
    "import torch.nn as nn\n",
    "import torch.optim as optim\n",
    "import torch.quantization\n",
    "from torchvision.models.resnet import resnet18  # Replace with your custom ResNet-110\n",
    "import copy\n",
    "from src.evaluate import measure_inference_time"
   ],
   "id": "ce0578515260bb63"
  },
  {
   "metadata": {},
   "cell_type": "markdown",
   "source": "## Define Parameters",
   "id": "22da98712bc9ca87"
  },
  {
   "metadata": {},
   "cell_type": "code",
   "outputs": [],
   "execution_count": null,
   "source": [
    "num_epochs = 1\n",
    "learning_rate = 1e-4\n",
    "backend = 'qnnpack'\n",
    "device = 'cpu'\n",
    "batch_size = 128\n",
    "\n",
    "model_path = \"models/resnet110_baseline_30_mps.pth\""
   ],
   "id": "dc69df669fdde85c"
  },
  {
   "metadata": {},
   "cell_type": "markdown",
   "source": "## Load model, data and set optimizer and criterion",
   "id": "d3bc6b11bffcf3ff"
  },
  {
   "metadata": {},
   "cell_type": "code",
   "outputs": [],
   "execution_count": null,
   "source": [
    "model = load_model(model_path, device=device)\n",
    "\n",
    "optimizer = torch.optim.Adam(model.parameters(), lr=learning_rate)\n",
    "criterion = nn.CrossEntropyLoss()\n",
    "\n",
    "train_loader = get_cifar10_loader('train', batch_size=batch_size)\n",
    "val_loader = get_cifar10_loader('val', batch_size=batch_size)\n",
    "val_loader_subset = get_cifar10_loader('val', batch_size=batch_size, subset_size=1000)"
   ],
   "id": "621105d9584d1db6"
  },
  {
   "metadata": {},
   "cell_type": "markdown",
   "source": "## Prepare QAT",
   "id": "d72d55aa8ffc541d"
  },
  {
   "metadata": {},
   "cell_type": "code",
   "outputs": [],
   "execution_count": null,
   "source": [
    "model.eval()\n",
    "model.fuse_model()\n",
    "\n",
    "torch.backends.quantized.engine = backend\n",
    "\n",
    "model.to(device)\n",
    "model.train()\n",
    "\n",
    "model.qconfig = torch.quantization.get_default_qat_qconfig(backend)\n",
    "torch.quantization.prepare_qat(model, inplace=True)"
   ],
   "id": "1333dcca1cc7cc96"
  },
  {
   "metadata": {},
   "cell_type": "markdown",
   "source": "## Training",
   "id": "f4fe5550a2d26fc7"
  },
  {
   "metadata": {},
   "cell_type": "code",
   "outputs": [],
   "execution_count": null,
   "source": [
    "for epoch in range(num_epochs):\n",
    "    print(f\"Epoch {epoch+1}/{num_epochs}\")\n",
    "    model.train()\n",
    "    running_loss = 0.0\n",
    "\n",
    "    for images, targets in train_loader:\n",
    "        images, targets = images.to(device), targets.to(device)\n",
    "        optimizer.zero_grad()\n",
    "        outputs = model(images)\n",
    "        loss = criterion(outputs, targets)\n",
    "        loss.backward()\n",
    "        optimizer.step()\n",
    "        running_loss += loss.item()\n",
    "\n",
    "    print(f\"Training loss: {running_loss:.4f}\")\n",
    "\n",
    "    model.eval()\n",
    "    evaluate(model, val_loader_subset, device=device)\n",
    "\n",
    "model.eval()\n",
    "model_quantized = torch.quantization.convert(model, inplace=False)"
   ],
   "id": "d969328379ddadd9"
  },
  {
   "metadata": {},
   "cell_type": "markdown",
   "source": "## Evaluation",
   "id": "c0420e492a73a67c"
  },
  {
   "cell_type": "code",
   "id": "initial_id",
   "metadata": {
    "collapsed": true,
    "ExecuteTime": {
     "end_time": "2025-04-11T14:01:36.181311Z",
     "start_time": "2025-04-11T13:38:21.822392Z"
    }
   },
   "source": [
    "print(\"Evaluating quantized model...\")\n",
    "evaluate(model_quantized, val_loader_subset, device=device)"
   ],
   "outputs": [
    {
     "name": "stdout",
     "output_type": "stream",
     "text": [
      "Epoch 1/1\n",
      "Training loss: 83.9658\n",
      "Validation Accuracy: 87.40%, Avg Loss: 0.4148, Time: 9.46s\n",
      "Evaluating quantized model...\n",
      "Validation Accuracy: 87.50%, Avg Loss: 0.4372, Time: 3.71s\n"
     ]
    },
    {
     "data": {
      "text/plain": [
       "(87.5, 0.437206241607666)"
      ]
     },
     "execution_count": 2,
     "metadata": {},
     "output_type": "execute_result"
    }
   ],
   "execution_count": 2
  },
  {
   "metadata": {
    "ExecuteTime": {
     "end_time": "2025-04-12T22:53:28.443814Z",
     "start_time": "2025-04-12T22:51:43.158380Z"
    }
   },
   "cell_type": "code",
   "source": [
    "time_float = measure_inference_time(model, val_loader, device=device)\n",
    "time_quant = measure_inference_time(model_quantized, val_loader, device=device)\n",
    "\n",
    "print(f\"Average inference time per batch (float model): {time_float:.4f} seconds\")\n",
    "print(f\"Average inference time per batch (quantized model): {time_quant:.4f} seconds\")\n"
   ],
   "id": "5bd622da99b6b406",
   "outputs": [
    {
     "name": "stdout",
     "output_type": "stream",
     "text": [
      "Average inference time per batch (float model): 0.6658 seconds\n",
      "Average inference time per batch (quantized model): 0.3194 seconds\n"
     ]
    }
   ],
   "execution_count": 13
  }
 ],
 "metadata": {
  "kernelspec": {
   "display_name": "Python 3",
   "language": "python",
   "name": "python3"
  },
  "language_info": {
   "codemirror_mode": {
    "name": "ipython",
    "version": 2
   },
   "file_extension": ".py",
   "mimetype": "text/x-python",
   "name": "python",
   "nbconvert_exporter": "python",
   "pygments_lexer": "ipython2",
   "version": "2.7.6"
  }
 },
 "nbformat": 4,
 "nbformat_minor": 5
}
