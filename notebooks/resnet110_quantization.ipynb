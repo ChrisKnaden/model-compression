{
 "cells": [
  {
   "cell_type": "code",
   "id": "initial_id",
   "metadata": {
    "collapsed": true,
    "ExecuteTime": {
     "end_time": "2025-04-13T14:54:48.823271Z",
     "start_time": "2025-04-13T14:54:47.634073Z"
    }
   },
   "source": [
    "import torch\n",
    "from torch import nn\n",
    "from src.evaluate import measure_inference_time\n",
    "from src.utils import load_model, save_quantized_model, load_quantized_model\n",
    "from src.data_loader import get_cifar10_loader\n",
    "from src.train import train_model\n",
    "from src.model import ResNet, BasicBlock, resnet110\n",
    "from src.evaluate import evaluate, count_total_parameters\n",
    "from src.utils import quantize_model, save_model\n",
    "import torch\n",
    "import torch.quantization\n"
   ],
   "outputs": [],
   "execution_count": 1
  },
  {
   "metadata": {
    "ExecuteTime": {
     "end_time": "2025-04-13T14:54:49.248582Z",
     "start_time": "2025-04-13T14:54:49.244724Z"
    }
   },
   "cell_type": "code",
   "source": [
    "# Parameters\n",
    "device = torch.device(\"cpu\")\n",
    "model_path = \"models/pruned_45-30_kd_10_resnet110_mps.pth\"\n",
    "backend = 'qnnpack'\n",
    "\n",
    "batch_size = 128\n"
   ],
   "id": "a26583b7a30056de",
   "outputs": [],
   "execution_count": 2
  },
  {
   "metadata": {
    "ExecuteTime": {
     "end_time": "2025-04-13T14:54:50.964722Z",
     "start_time": "2025-04-13T14:54:49.651437Z"
    }
   },
   "cell_type": "code",
   "source": [
    "model = load_model(model_path, device=device)\n",
    "\n",
    "# Load data\n",
    "val_loader = get_cifar10_loader('val', batch_size=batch_size)\n",
    "val_loader_subset = get_cifar10_loader('val', batch_size=batch_size, subset_size=1000)"
   ],
   "id": "9dc33c415e109b8a",
   "outputs": [],
   "execution_count": 3
  },
  {
   "metadata": {},
   "cell_type": "markdown",
   "source": "# Static Quantization",
   "id": "9bfd00191be414dc"
  },
  {
   "metadata": {
    "ExecuteTime": {
     "end_time": "2025-04-13T14:54:54.209194Z",
     "start_time": "2025-04-13T14:54:50.969610Z"
    }
   },
   "cell_type": "code",
   "source": [
    "model.to(device=device)\n",
    "\n",
    "torch.backends.quantized.engine = backend\n",
    "\n",
    "model_fp32 = model\n",
    "model_fp32.eval()\n",
    "\n",
    "model_fp32.fuse_model()\n",
    "\n",
    "model_fp32.qconfig = torch.quantization.get_default_qconfig(backend)\n",
    "\n",
    "# Prepares the model for the next step i.e. calibration.\n",
    "# Inserts observers in the model that will observe the activation tensors during calibration\n",
    "model_fp32_prepared = torch.quantization.prepare(model_fp32, inplace = False)\n",
    "\n",
    "evaluate(model_fp32_prepared, val_loader_subset, device)\n",
    "\n",
    "model_quantized = torch.quantization.convert(model_fp32_prepared, inplace=False)\n",
    "\n",
    "# model_quantized = quantize_model(model, val_loader_subset, device, backend=backend)"
   ],
   "id": "6036fdee1ca5db3b",
   "outputs": [
    {
     "name": "stdout",
     "output_type": "stream",
     "text": [
      "Validation Accuracy: 86.20%, Avg Loss: 0.7771, Time: 2.76s\n"
     ]
    }
   ],
   "execution_count": 4
  },
  {
   "metadata": {
    "ExecuteTime": {
     "end_time": "2025-04-13T14:55:10.477539Z",
     "start_time": "2025-04-13T14:54:54.219804Z"
    }
   },
   "cell_type": "code",
   "source": "evaluate(model_quantized, val_loader, device)",
   "id": "4e8085bc66ffe45f",
   "outputs": [
    {
     "name": "stdout",
     "output_type": "stream",
     "text": [
      "Validation Accuracy: 86.70%, Avg Loss: 0.7705, Time: 16.25s\n"
     ]
    },
    {
     "data": {
      "text/plain": [
       "(86.7, 0.7704976499557495, 16.25340986251831)"
      ]
     },
     "execution_count": 5,
     "metadata": {},
     "output_type": "execute_result"
    }
   ],
   "execution_count": 5
  },
  {
   "metadata": {
    "ExecuteTime": {
     "end_time": "2025-04-13T14:56:00.890677Z",
     "start_time": "2025-04-13T14:55:10.605040Z"
    }
   },
   "cell_type": "code",
   "source": [
    "time_float = measure_inference_time(model, val_loader, device=device)\n",
    "time_quant = measure_inference_time(model_quantized, val_loader, device=device)\n",
    "\n",
    "print(f\"Average inference time per batch (float model): {time_float:.4f} seconds\")\n",
    "print(f\"Average inference time per batch (quantized model): {time_quant:.4f} seconds\")\n"
   ],
   "id": "fd4fea9c4ab46b5a",
   "outputs": [
    {
     "name": "stdout",
     "output_type": "stream",
     "text": [
      "Average inference time per batch (float model): 0.2766 seconds\n",
      "Average inference time per batch (quantized model): 0.1878 seconds\n"
     ]
    }
   ],
   "execution_count": 6
  },
  {
   "metadata": {
    "ExecuteTime": {
     "end_time": "2025-04-13T14:56:01.508966Z",
     "start_time": "2025-04-13T14:56:00.921728Z"
    }
   },
   "cell_type": "code",
   "source": "save_quantized_model(model_quantized, \"models/quantized_pruned_45-30_kd_10_resnet110_cpu.pt\")",
   "id": "2e930e6b8ae8b5cc",
   "outputs": [],
   "execution_count": 7
  },
  {
   "metadata": {},
   "cell_type": "markdown",
   "source": [
    "# Dynamic Quantization\n",
    "As dynamic quantization from PyTorch only supports quantizing a few layers, this method is not very effective for ResNet."
   ],
   "id": "156c57599065bea3"
  },
  {
   "metadata": {
    "ExecuteTime": {
     "end_time": "2025-04-11T15:22:15.316635Z",
     "start_time": "2025-04-11T15:22:15.281836Z"
    }
   },
   "cell_type": "code",
   "source": [
    "model.to(device=device)\n",
    "model.eval()\n",
    "\n",
    "torch.backends.quantized.engine = backend\n",
    "\n",
    "# Apply dynamic quantization (Only supports nn.Linear from ResNet Model)\n",
    "model_quantized = torch.quantization.quantize_dynamic(\n",
    "    model,\n",
    "    {torch.nn.Linear},\n",
    "    dtype=torch.qint8\n",
    ")\n"
   ],
   "id": "481d72622485b9c0",
   "outputs": [],
   "execution_count": 10
  }
 ],
 "metadata": {
  "kernelspec": {
   "display_name": "Python 3",
   "language": "python",
   "name": "python3"
  },
  "language_info": {
   "codemirror_mode": {
    "name": "ipython",
    "version": 2
   },
   "file_extension": ".py",
   "mimetype": "text/x-python",
   "name": "python",
   "nbconvert_exporter": "python",
   "pygments_lexer": "ipython2",
   "version": "2.7.6"
  }
 },
 "nbformat": 4,
 "nbformat_minor": 5
}
