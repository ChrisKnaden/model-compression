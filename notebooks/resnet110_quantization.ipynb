{
 "cells": [
  {
   "cell_type": "code",
   "id": "initial_id",
   "metadata": {
    "collapsed": true,
    "ExecuteTime": {
     "end_time": "2025-04-07T10:00:10.446603Z",
     "start_time": "2025-04-07T10:00:09.397535Z"
    }
   },
   "source": [
    "import torch\n",
    "from torch import nn\n",
    "\n",
    "from src.utils import load_model\n",
    "from src.data_loader import get_cifar10_loader\n",
    "from src.train import train_model\n",
    "from src.model import ResNet, BasicBlock, resnet110\n",
    "from src.evaluate import evaluate\n",
    "from src.utils import count_total_parameters, quantize_model\n",
    "import torch\n",
    "from src.utils import measure_inference_time\n"
   ],
   "outputs": [],
   "execution_count": 1
  },
  {
   "metadata": {
    "ExecuteTime": {
     "end_time": "2025-04-07T10:00:12.052655Z",
     "start_time": "2025-04-07T10:00:12.046912Z"
    }
   },
   "cell_type": "code",
   "source": [
    "# Parameters\n",
    "device = torch.device(\"cpu\")\n",
    "model_path = \"pruned_34-30_resnet110_mps.pth\"\n",
    "#model_path = \"resnet110_pretrained.pth\"\n",
    "backend = 'qnnpack'\n",
    "\n",
    "batch_size = 128\n",
    "learning_rate = 0.001\n",
    "num_epochs = 1\n"
   ],
   "id": "a26583b7a30056de",
   "outputs": [],
   "execution_count": 2
  },
  {
   "metadata": {
    "ExecuteTime": {
     "end_time": "2025-04-07T10:00:15.147698Z",
     "start_time": "2025-04-07T10:00:13.298539Z"
    }
   },
   "cell_type": "code",
   "source": [
    "model = load_model(model_path, device=device)\n",
    "\n",
    "# Define optimizer and criterion for training\n",
    "optimizer = torch.optim.Adam(model.parameters(), lr=learning_rate)\n",
    "criterion = nn.CrossEntropyLoss()\n",
    "\n",
    "# Load data\n",
    "val_loader = get_cifar10_loader('val', batch_size=batch_size)\n",
    "val_loader_subset = get_cifar10_loader('val', batch_size=batch_size, subset_size=1000)"
   ],
   "id": "9dc33c415e109b8a",
   "outputs": [],
   "execution_count": 3
  },
  {
   "metadata": {
    "ExecuteTime": {
     "end_time": "2025-04-07T10:00:19.006780Z",
     "start_time": "2025-04-07T10:00:15.152174Z"
    }
   },
   "cell_type": "code",
   "source": [
    "model.to(device=device)\n",
    "\n",
    "torch.backends.quantized.engine = backend\n",
    "\n",
    "model_fp32 = model\n",
    "model_fp32.eval()\n",
    "\n",
    "model_fp32.fuse_model()\n",
    "\n",
    "# Sets the backend for x86\n",
    "model_fp32.qconfig = torch.quantization.get_default_qconfig(backend)\n",
    "\n",
    "# Prepares the model for the next step i.e. calibration.\n",
    "# Inserts observers in the model that will observe the activation tensors during calibration\n",
    "model_fp32_prepared = torch.quantization.prepare(model_fp32, inplace = False)\n",
    "\n",
    "evaluate(model_fp32_prepared, val_loader_subset, device)\n",
    "\n",
    "model_quantized = torch.quantization.convert(model_fp32_prepared)\n",
    "\n",
    "# model_quantized = model_quantized(model, val_loader_subset, device, backend=backend)"
   ],
   "id": "6036fdee1ca5db3b",
   "outputs": [
    {
     "name": "stdout",
     "output_type": "stream",
     "text": [
      "Validation Accuracy: 85.90%, Avg Loss: 0.4480, Time: 3.38s\n"
     ]
    }
   ],
   "execution_count": 4
  },
  {
   "metadata": {
    "ExecuteTime": {
     "end_time": "2025-04-07T10:00:38.196365Z",
     "start_time": "2025-04-07T10:00:19.017695Z"
    }
   },
   "cell_type": "code",
   "source": "evaluate(model_quantized, val_loader, device)",
   "id": "4e8085bc66ffe45f",
   "outputs": [
    {
     "name": "stdout",
     "output_type": "stream",
     "text": [
      "Validation Accuracy: 85.61%, Avg Loss: 0.4643, Time: 19.17s\n"
     ]
    },
    {
     "data": {
      "text/plain": [
       "(85.61, 0.4642594927787781)"
      ]
     },
     "execution_count": 5,
     "metadata": {},
     "output_type": "execute_result"
    }
   ],
   "execution_count": 5
  },
  {
   "metadata": {
    "ExecuteTime": {
     "end_time": "2025-04-07T10:02:26.465511Z",
     "start_time": "2025-04-07T10:01:40.027173Z"
    }
   },
   "cell_type": "code",
   "source": [
    "time_float = measure_inference_time(model, val_loader, device=device)\n",
    "time_quant = measure_inference_time(model_quantized, val_loader, device=device)\n",
    "\n",
    "print(f\"Average inference time per batch (float model): {time_float:.4f} seconds\")\n",
    "print(f\"Average inference time per batch (quantized model): {time_quant:.4f} seconds\")\n"
   ],
   "id": "fd4fea9c4ab46b5a",
   "outputs": [
    {
     "name": "stdout",
     "output_type": "stream",
     "text": [
      "Average inference time per batch (float model): 0.2235 seconds\n",
      "Average inference time per batch (quantized model): 0.2024 seconds\n"
     ]
    }
   ],
   "execution_count": 7
  },
  {
   "metadata": {},
   "cell_type": "code",
   "outputs": [],
   "execution_count": null,
   "source": "",
   "id": "481d72622485b9c0"
  }
 ],
 "metadata": {
  "kernelspec": {
   "display_name": "Python 3",
   "language": "python",
   "name": "python3"
  },
  "language_info": {
   "codemirror_mode": {
    "name": "ipython",
    "version": 2
   },
   "file_extension": ".py",
   "mimetype": "text/x-python",
   "name": "python",
   "nbconvert_exporter": "python",
   "pygments_lexer": "ipython2",
   "version": "2.7.6"
  }
 },
 "nbformat": 4,
 "nbformat_minor": 5
}
