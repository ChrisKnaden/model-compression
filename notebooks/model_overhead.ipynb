{
 "cells": [
  {
   "cell_type": "code",
   "id": "initial_id",
   "metadata": {
    "collapsed": true,
    "ExecuteTime": {
     "end_time": "2025-04-28T12:31:34.226108Z",
     "start_time": "2025-04-28T12:31:33.437260Z"
    }
   },
   "source": [
    "import torch\n",
    "from torch import nn\n",
    "from src.utils import load_model, load_quantized_model\n",
    "from src.model import ResNet, BasicBlock, resnet110\n",
    "import tracemalloc\n",
    "import time\n",
    "import torch.quantization\n",
    "import psutil\n",
    "import os\n",
    "from torch.profiler import profile, ProfilerActivity\n"
   ],
   "outputs": [],
   "execution_count": 1
  },
  {
   "metadata": {
    "ExecuteTime": {
     "end_time": "2025-04-28T12:32:06.401194Z",
     "start_time": "2025-04-28T12:32:06.355382Z"
    }
   },
   "cell_type": "code",
   "source": [
    "device = torch.device(\"cpu\")\n",
    "model_path = \"models/resnet110_baseline_120_mps.pth\"\n",
    "#model_path = \"models/quantized_resnet110_baseline_120_cpu.pt\"\n",
    "backend = 'qnnpack'\n",
    "\n",
    "torch.backends.quantized.engine = backend\n",
    "\n",
    "batch_size = 128\n",
    "\n",
    "\n",
    "def test_model_loading():\n",
    "    # needs to be changed depending on loading a quantized or normal model\n",
    "    model = load_model(model_path, device=device)\n",
    "    #model = load_quantized_model(model_path)\n",
    "    return model\n",
    "\n",
    "model = test_model_loading()"
   ],
   "id": "56f1fb604a265670",
   "outputs": [],
   "execution_count": 6
  },
  {
   "metadata": {},
   "cell_type": "markdown",
   "source": "Trace Memory allaction during loading the model with tracemalloc",
   "id": "4b081441e4f3eb06"
  },
  {
   "metadata": {
    "ExecuteTime": {
     "end_time": "2025-04-28T12:32:09.326876Z",
     "start_time": "2025-04-28T12:32:09.198710Z"
    }
   },
   "cell_type": "code",
   "source": [
    "torch.backends.quantized.engine = backend\n",
    "\n",
    "# Start measuring memory usage before loading\n",
    "tracemalloc.start()\n",
    "start_time = time.time()\n",
    "\n",
    "model = test_model_loading()\n",
    "\n",
    "load_time = time.time() - start_time\n",
    "current, peak = tracemalloc.get_traced_memory()\n",
    "tracemalloc.stop()\n",
    "\n",
    "print(f\"Model load time: {load_time:.4f} seconds\")\n",
    "print(f\"Model load memory usage (peak): {peak / 1024 / 1024:.2f} MB\")\n"
   ],
   "id": "76e3b6bdbc7640ed",
   "outputs": [
    {
     "name": "stdout",
     "output_type": "stream",
     "text": [
      "Model load time: 0.1250 seconds\n",
      "Model load memory usage (peak): 2.80 MB\n"
     ]
    }
   ],
   "execution_count": 7
  },
  {
   "metadata": {},
   "cell_type": "markdown",
   "source": "Trace total memory change when loading the model into memory with psutil (sometimes not correct / fluctuates but gives an estimate, depending on the state of the machine (idle, just started IDE))",
   "id": "f012e555056dc44a"
  },
  {
   "metadata": {
    "ExecuteTime": {
     "end_time": "2025-04-28T12:32:13.442934Z",
     "start_time": "2025-04-28T12:32:11.405562Z"
    }
   },
   "cell_type": "code",
   "source": [
    "def get_memory_mb():\n",
    "    process = psutil.Process(os.getpid())\n",
    "    mem_bytes = process.memory_info().rss  # in bytes\n",
    "    return mem_bytes / (1024 * 1024)\n",
    "\n",
    "# Measure baseline memory\n",
    "print(\"Measuring baseline memory...\")\n",
    "time.sleep(1)\n",
    "baseline_mem = get_memory_mb()\n",
    "print(f\"Baseline: {baseline_mem:.2f} MB\")\n",
    "\n",
    "# Load the model\n",
    "print(\"Loading model...\")\n",
    "model = test_model_loading()\n",
    "model.eval()\n",
    "\n",
    "# Wait a bit to let memory settle\n",
    "time.sleep(1)\n",
    "post_load_mem = get_memory_mb()\n",
    "print(f\"After model load: {post_load_mem:.2f} MB\")\n",
    "\n",
    "# Calculate delta\n",
    "model_static_mem = post_load_mem - baseline_mem\n",
    "print(f\"Static memory used by model (just sitting in RAM): {model_static_mem:.2f} MB\")\n"
   ],
   "id": "c3b679487e9c5f1a",
   "outputs": [
    {
     "name": "stdout",
     "output_type": "stream",
     "text": [
      "Measuring baseline memory...\n",
      "Baseline: 256.59 MB\n",
      "Loading model...\n",
      "After model load: 263.02 MB\n",
      "Static memory used by model (just sitting in RAM): 6.42 MB\n"
     ]
    }
   ],
   "execution_count": 8
  },
  {
   "metadata": {},
   "cell_type": "markdown",
   "source": "CPU and Memory allocation during one forward pass with warm up with torch.profiler",
   "id": "a9f6e9d83dc8c928"
  },
  {
   "metadata": {
    "ExecuteTime": {
     "end_time": "2025-04-28T12:32:13.683193Z",
     "start_time": "2025-04-28T12:32:13.536159Z"
    }
   },
   "cell_type": "code",
   "source": [
    "model.eval()\n",
    "example_inputs = torch.randn(1, 3, 32, 32)\n",
    "\n",
    "# Warm-up\n",
    "for _ in range(5):\n",
    "    with torch.no_grad():\n",
    "        _ = model(example_inputs)\n",
    "\n",
    "# Profiling\n",
    "with profile(\n",
    "    activities=[ProfilerActivity.CPU],\n",
    "    profile_memory=True,\n",
    "    record_shapes=True,\n",
    "    with_stack=False,\n",
    "    with_flops=True\n",
    ") as prof:\n",
    "    with torch.no_grad():\n",
    "        _ = model(example_inputs)\n",
    "\n",
    "print(prof.key_averages().table(sort_by=\"self_cpu_memory_usage\"))"
   ],
   "id": "531719933fd1bdce",
   "outputs": [
    {
     "name": "stdout",
     "output_type": "stream",
     "text": [
      "--------------------------------  ------------  ------------  ------------  ------------  ------------  ------------  ------------  ------------  ------------  \n",
      "                            Name    Self CPU %      Self CPU   CPU total %     CPU total  CPU time avg       CPU Mem  Self CPU Mem    # of Calls  Total KFLOPs  \n",
      "--------------------------------  ------------  ------------  ------------  ------------  ------------  ------------  ------------  ------------  ------------  \n",
      "                     aten::empty         4.01%     309.908us         4.01%     309.908us       0.349us      33.18 Mb      33.18 Mb           888            --  \n",
      "                   aten::resize_         0.75%      57.836us         0.75%      57.836us       0.521us       2.53 Mb       2.53 Mb           111            --  \n",
      "                       aten::add         2.07%     159.702us         2.07%     159.702us       2.957us       1.97 Mb       1.97 Mb            54       516.096  \n",
      "                aten::empty_like         0.67%      51.470us         1.51%     117.007us       1.054us       3.98 Mb     288.00 Kb           111            --  \n",
      "         aten::native_batch_norm        15.80%       1.221ms        19.33%       1.494ms      13.456us       4.05 Mb      36.88 Kb           111            --  \n",
      "                      aten::mean         0.06%       4.875us         0.35%      27.249us      27.249us         256 b         256 b             1            --  \n",
      "                     aten::addmm         0.11%       8.250us         0.15%      11.209us      11.209us          40 b          40 b             1         1.280  \n",
      "             aten::empty_strided         0.02%       1.417us         0.02%       1.417us       1.417us           4 b           4 b             1            --  \n",
      "                    aten::conv2d         1.04%      80.405us        65.52%       5.064ms      45.619us       4.05 Mb           0 b           111    506298.368  \n",
      "               aten::convolution         1.46%     113.212us        64.48%       4.983ms      44.894us       4.05 Mb           0 b           111            --  \n",
      "         aten::_nnpack_available         0.05%       3.667us         0.05%       3.667us       0.033us           0 b           0 b           111            --  \n",
      "                      aten::view         0.33%      25.291us         0.33%      25.291us       0.226us           0 b           0 b           112            --  \n",
      "                     aten::relu_         0.60%      45.994us         9.49%     733.227us       6.727us           0 b           0 b           109            --  \n",
      "                aten::clamp_min_         8.89%     687.233us         8.89%     687.233us       6.305us           0 b           0 b           109            --  \n",
      "       aten::adaptive_avg_pool2d         0.02%       1.792us         0.38%      29.041us      29.041us         256 b           0 b             1            --  \n",
      "                       aten::sum         0.07%       5.665us         0.09%       7.332us       7.332us           0 b           0 b             1            --  \n",
      "                     aten::fill_         0.02%       1.667us         0.02%       1.667us       1.667us           0 b           0 b             1            --  \n",
      "                        aten::to         0.02%       1.458us         0.11%       8.625us       8.625us           4 b           0 b             1            --  \n",
      "                  aten::_to_copy         0.04%       2.875us         0.09%       7.167us       7.167us           4 b           0 b             1            --  \n",
      "                     aten::copy_         0.05%       4.125us         0.05%       4.125us       2.062us           0 b           0 b             2            --  \n",
      "                   aten::flatten         0.02%       1.334us         0.05%       4.125us       4.125us           0 b           0 b             1            --  \n",
      "                    aten::linear         0.08%       6.041us         0.29%      22.791us      22.791us          40 b           0 b             1            --  \n",
      "                         aten::t         0.03%       2.208us         0.07%       5.541us       5.541us           0 b           0 b             1            --  \n",
      "                 aten::transpose         0.03%       2.083us         0.04%       3.333us       3.333us           0 b           0 b             1            --  \n",
      "                aten::as_strided         0.02%       1.417us         0.02%       1.417us       0.708us           0 b           0 b             2            --  \n",
      "                    aten::expand         0.02%       1.333us         0.02%       1.500us       1.500us           0 b           0 b             1            --  \n",
      "              aten::resolve_conj         0.00%       0.209us         0.00%       0.209us       0.105us           0 b           0 b             2            --  \n",
      "                      aten::div_         0.08%       6.417us         0.19%      15.042us      15.042us           0 b          -4 b             1            --  \n",
      "                aten::batch_norm         0.94%      72.525us        22.20%       1.716ms      15.458us       4.05 Mb        -576 b           111            --  \n",
      "    aten::_batch_norm_impl_index         1.59%     122.948us        21.26%       1.643ms      14.804us       4.05 Mb      -1.00 Kb           111            --  \n",
      "               aten::thnn_conv2d         1.04%      80.753us        60.83%       4.701ms      42.351us       7.70 Mb      -2.32 Mb           111            --  \n",
      "              aten::_convolution         2.14%     165.410us        63.02%       4.870ms      43.874us       4.05 Mb      -3.66 Mb           111            --  \n",
      "                        [memory]         0.00%       0.000us         0.00%       0.000us       0.000us     -10.06 Mb     -10.06 Mb           277            --  \n",
      "      aten::_slow_conv2d_forward        57.94%       4.478ms        59.78%       4.620ms      41.624us      10.02 Mb     -21.96 Mb           111            --  \n",
      "--------------------------------  ------------  ------------  ------------  ------------  ------------  ------------  ------------  ------------  ------------  \n",
      "Self CPU time total: 7.728ms\n",
      "\n"
     ]
    }
   ],
   "execution_count": 9
  },
  {
   "metadata": {},
   "cell_type": "code",
   "outputs": [],
   "execution_count": null,
   "source": "",
   "id": "b873f4de41bb68f6"
  }
 ],
 "metadata": {
  "kernelspec": {
   "display_name": "Python 3",
   "language": "python",
   "name": "python3"
  },
  "language_info": {
   "codemirror_mode": {
    "name": "ipython",
    "version": 2
   },
   "file_extension": ".py",
   "mimetype": "text/x-python",
   "name": "python",
   "nbconvert_exporter": "python",
   "pygments_lexer": "ipython2",
   "version": "2.7.6"
  }
 },
 "nbformat": 4,
 "nbformat_minor": 5
}
