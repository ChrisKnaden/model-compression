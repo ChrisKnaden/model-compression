{
 "cells": [
  {
   "cell_type": "code",
   "id": "initial_id",
   "metadata": {
    "collapsed": true,
    "ExecuteTime": {
     "end_time": "2025-04-07T13:29:50.469683Z",
     "start_time": "2025-04-07T13:29:49.361091Z"
    }
   },
   "source": [
    "import torch\n",
    "from torch import nn\n",
    "from src.utils import load_model, save_model\n",
    "from src.data_loader import get_cifar10_loader\n",
    "from src.train import train_model\n",
    "from src.model import ResNet, BasicBlock, resnet110\n",
    "from src.evaluate import evaluate\n",
    "from src.utils import count_total_parameters\n",
    "import torch\n",
    "import torch_pruning as tp\n",
    "from src.utils import iterative_pruner\n",
    "\n"
   ],
   "outputs": [],
   "execution_count": 1
  },
  {
   "metadata": {
    "ExecuteTime": {
     "end_time": "2025-04-07T13:29:50.473904Z",
     "start_time": "2025-04-07T13:29:50.472159Z"
    }
   },
   "cell_type": "code",
   "source": [
    "# Parameters\n",
    "device = torch.device(\"mps\")\n",
    "model_path = \"models/resnet110_baseline_30_mps.pth\"\n",
    "\n",
    "batch_size = 128\n",
    "learning_rate = 0.001\n",
    "num_epochs = 1\n",
    "\n",
    "ch_sparsity = 0.95 # 34% of all channels are supposed to be pruned; note, that all connected layers also get pruned\n",
    "iterative_pruning_steps = 1"
   ],
   "id": "42d9b66110bab13d",
   "outputs": [],
   "execution_count": 2
  },
  {
   "metadata": {
    "ExecuteTime": {
     "end_time": "2025-04-07T13:29:50.868100Z",
     "start_time": "2025-04-07T13:29:50.696483Z"
    }
   },
   "cell_type": "code",
   "source": [
    "# Load pretrained model\n",
    "#teacher_model = load_model(model_path, device=device)\n",
    "model = load_model(model_path, device)# Until I pretrained the model aha\n",
    "pruned_model = model"
   ],
   "id": "7868cae9092ecffe",
   "outputs": [],
   "execution_count": 3
  },
  {
   "metadata": {
    "ExecuteTime": {
     "end_time": "2025-04-07T13:29:52.702199Z",
     "start_time": "2025-04-07T13:29:51.378231Z"
    }
   },
   "cell_type": "code",
   "source": [
    "# Define optimizer and criterion for training\n",
    "optimizer = torch.optim.Adam(pruned_model.parameters(), lr=learning_rate)\n",
    "criterion = nn.CrossEntropyLoss()\n",
    "\n",
    "# Load data\n",
    "train_loader = get_cifar10_loader('train', batch_size=batch_size)\n",
    "val_loader = get_cifar10_loader('val', batch_size=batch_size)"
   ],
   "id": "2b58511d8da0c1e3",
   "outputs": [],
   "execution_count": 4
  },
  {
   "metadata": {
    "ExecuteTime": {
     "end_time": "2025-04-07T13:29:52.705975Z",
     "start_time": "2025-04-07T13:29:52.704590Z"
    }
   },
   "cell_type": "code",
   "source": [
    "count_total_parameters(model)\n",
    "#evaluate(model, val_loader, device)\n"
   ],
   "id": "2092fec8c40ac662",
   "outputs": [],
   "execution_count": 5
  },
  {
   "metadata": {
    "ExecuteTime": {
     "end_time": "2025-04-07T13:29:55.427592Z",
     "start_time": "2025-04-07T13:29:55.150047Z"
    }
   },
   "cell_type": "code",
   "source": [
    "pruned_model.to(\"cpu\")\n",
    "example_inputs = torch.randn(1, 3, 32, 32)\n",
    "imp = tp.importance.TaylorImportance()\n",
    "\n",
    "pruner = tp.pruner.MagnitudePruner(\n",
    "    pruned_model,\n",
    "    example_inputs,\n",
    "    importance=imp,\n",
    "    iterative_steps=iterative_pruning_steps,\n",
    "    ch_sparsity=ch_sparsity,\n",
    ")\n",
    "\n",
    "iterative_pruner(pruner, iterative_pruning_steps)\n"
   ],
   "id": "eb28a4ae6e882b39",
   "outputs": [
    {
     "name": "stderr",
     "output_type": "stream",
     "text": [
      "/Users/christophknaden/git/model-compression/.venv/lib/python3.11/site-packages/torch_pruning/pruner/algorithms/base_pruner.py:87: UserWarning: ch_sparsity is deprecated in v1.3.0. Please use pruning_ratio.\n",
      "  warnings.warn(\n"
     ]
    }
   ],
   "execution_count": 6
  },
  {
   "metadata": {
    "ExecuteTime": {
     "end_time": "2025-04-07T13:40:50.444784Z",
     "start_time": "2025-04-07T13:30:28.649036Z"
    }
   },
   "cell_type": "code",
   "source": "train_model(pruned_model, train_loader, optimizer, criterion, device, num_epochs=10)",
   "id": "73aec2564bbfeb59",
   "outputs": [
    {
     "name": "stderr",
     "output_type": "stream",
     "text": [
      "                                                                                       \r"
     ]
    }
   ],
   "execution_count": 8
  },
  {
   "metadata": {
    "ExecuteTime": {
     "end_time": "2025-04-06T14:31:46.197086Z",
     "start_time": "2025-04-06T14:31:42.488018Z"
    }
   },
   "cell_type": "code",
   "source": "evaluate(pruned_model, val_loader, device)",
   "id": "630ae492b1894ae6",
   "outputs": [
    {
     "name": "stdout",
     "output_type": "stream",
     "text": [
      "Validation Accuracy: 9.29%, Avg Loss: 2.7144, Time: 3.70s\n"
     ]
    },
    {
     "data": {
      "text/plain": [
       "(9.29, 2.714369675064087)"
      ]
     },
     "execution_count": 10,
     "metadata": {},
     "output_type": "execute_result"
    }
   ],
   "execution_count": 10
  },
  {
   "metadata": {
    "ExecuteTime": {
     "end_time": "2025-04-07T13:30:00.358179Z",
     "start_time": "2025-04-07T13:30:00.352448Z"
    }
   },
   "cell_type": "code",
   "source": "count_total_parameters(pruned_model)",
   "id": "cc7b4ce938679629",
   "outputs": [
    {
     "name": "stdout",
     "output_type": "stream",
     "text": [
      "Total number of parameters in the model: 88236\n"
     ]
    },
    {
     "data": {
      "text/plain": [
       "88236"
      ]
     },
     "execution_count": 7,
     "metadata": {},
     "output_type": "execute_result"
    }
   ],
   "execution_count": 7
  },
  {
   "metadata": {
    "ExecuteTime": {
     "end_time": "2025-04-07T13:41:27.800768Z",
     "start_time": "2025-04-07T13:41:27.664779Z"
    }
   },
   "cell_type": "code",
   "source": [
    "from src.utils import save_model\n",
    "save_model(pruned_model, \"models/pruned_95-10_resnet110_mps.pth\")"
   ],
   "id": "9abea713716d378a",
   "outputs": [],
   "execution_count": 10
  },
  {
   "metadata": {},
   "cell_type": "code",
   "outputs": [],
   "execution_count": null,
   "source": "",
   "id": "e0b0a864af0e368"
  }
 ],
 "metadata": {
  "kernelspec": {
   "display_name": "Python 3",
   "language": "python",
   "name": "python3"
  },
  "language_info": {
   "codemirror_mode": {
    "name": "ipython",
    "version": 2
   },
   "file_extension": ".py",
   "mimetype": "text/x-python",
   "name": "python",
   "nbconvert_exporter": "python",
   "pygments_lexer": "ipython2",
   "version": "2.7.6"
  }
 },
 "nbformat": 4,
 "nbformat_minor": 5
}
